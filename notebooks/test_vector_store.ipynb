{
 "cells": [
  {
   "cell_type": "code",
   "execution_count": 1,
   "metadata": {},
   "outputs": [],
   "source": [
    "import os\n",
    "\n",
    "os.chdir('../')\n",
    "\n",
    "from src.vector_store import VectorStore"
   ]
  },
  {
   "cell_type": "code",
   "execution_count": 2,
   "metadata": {},
   "outputs": [
    {
     "name": "stdout",
     "output_type": "stream",
     "text": [
      "\u001b[34mdata\u001b[m\u001b[m/      \u001b[34mnotebooks\u001b[m\u001b[m/ \u001b[34msrc\u001b[m\u001b[m/\n"
     ]
    }
   ],
   "source": [
    "ls"
   ]
  },
  {
   "cell_type": "code",
   "execution_count": 3,
   "metadata": {},
   "outputs": [],
   "source": [
    "from langchain_chroma import Chroma\n",
    "from langchain_ollama import OllamaEmbeddings\n",
    "from langchain_ollama import ChatOllama"
   ]
  },
  {
   "cell_type": "code",
   "execution_count": 4,
   "metadata": {},
   "outputs": [
    {
     "data": {
      "text/plain": [
       "['articles-340089_ARCHIVO_PDF_MATEM_GRADO5_03.pdf']"
      ]
     },
     "execution_count": 4,
     "metadata": {},
     "output_type": "execute_result"
    }
   ],
   "source": [
    "path = \"data\"\n",
    "os.listdir(path)"
   ]
  },
  {
   "cell_type": "code",
   "execution_count": 5,
   "metadata": {},
   "outputs": [],
   "source": [
    "llm = ChatOllama(\n",
    "    model=\"llama3.1:8b\",\n",
    "    temperature=0\n",
    ")\n",
    "emmbedded_model = OllamaEmbeddings(base_url=\"http://localhost:11434\", model=\"nomic-embed-text\")"
   ]
  },
  {
   "cell_type": "code",
   "execution_count": 6,
   "metadata": {},
   "outputs": [],
   "source": [
    "vdb = VectorStore(path, vector_store = Chroma(), emmbedded_model = emmbedded_model ,  llm=llm)"
   ]
  },
  {
   "cell_type": "code",
   "execution_count": 7,
   "metadata": {},
   "outputs": [],
   "source": [
    "db = vdb.create_vector_store()"
   ]
  },
  {
   "cell_type": "code",
   "execution_count": 9,
   "metadata": {},
   "outputs": [
    {
     "data": {
      "text/plain": [
       "[Document(metadata={'page': 28, 'source': 'data/articles-340089_ARCHIVO_PDF_MATEM_GRADO5_03.pdf'}, page_content='Unidad 7 \\nAlgo más sobre razones  \\ny proporciones'),\n",
       " Document(metadata={'page': 57, 'source': 'data/articles-340089_ARCHIVO_PDF_MATEM_GRADO5_03.pdf'}, page_content='Matemáticas\\n58\\n Usemos la equivalencia de razones en magnitudes \\ndirectamente proporcionales\\nGuía 16 C\\n \\nMétodo de igualación de razones para resolver problemas \\ndirectamente proporcionales\\nEl hecho de que la razón entre valores correspondientes de dos \\nmagnitudes directamente proporcionales permanezca constante, es muy \\nútil para resolver problemas.\\nEjemplo: cada 25 segundos la rueda de un molino da 3 vueltas. \\n¿Cuántas vueltas da en 20 min y 11 s?\\nPrimer paso: nos aseguramos que las magnitudes involucradas en el \\nproblema son directamente proporcionales.\\nMagnitudes: número de vueltas de la rueda.\\nTiempo que dura la rueda dando vueltas.\\nPrimera constatación:\\nParece razonable pensar que estas dos magnitudes están en relación \\ndirecta. Es decir, si una aumenta la otra también, ya que si la rueda \\nda más vueltas el tiempo es mayor.\\nSegunda constatación:\\n También parece razonable pensar que el tiempo que dura la rueda \\ngirando es directamente proporcional al número de vueltas. Ya que\\nsi 25 s : 3 vueltas, también se cumple \\n 50 s : 6 vueltas, 75 s: 9 vueltas, etc.'),\n",
       " Document(metadata={'page': 46, 'source': 'data/articles-340089_ARCHIVO_PDF_MATEM_GRADO5_03.pdf'}, page_content='47\\n•\\t\\n•\\tResuelvo y formulo problemas en situaciones de proporcionalidad directa, inversa y producto \\nde medidas.\\n•\\tModelo situaciones de dependencia mediante la proporcionalidad directa e inversa.\\n•\\tAnalizo y explico relaciones de dependencia entre cantidades que varían en el tiempo con cierta \\nregularidad en situaciones económicas, sociales y de las ciencias naturales.\\nGUÍA 16. IDENTIFIQUEMOS MAGNITUDES \\nQUE VARÍAN EN FORMA PROPORCIONAL\\nEstándares:\\nTrabajar en Escuela Nueva los siguientes \\nCompetencias en Matemáticas\\nMe permite desarrollar mis \\nUnidad 8'),\n",
       " Document(metadata={'page': 59, 'source': 'data/articles-340089_ARCHIVO_PDF_MATEM_GRADO5_03.pdf'}, page_content='Matemáticas\\n60\\n1. Si es posible aplica el método de igualación de razones para \\nresolver los problemas siguientes.\\n Sugerencia: recuerda que primero debes asegurarte que las \\nmagnitudes involucradas en el problema son directamente \\nproporcionales.\\n En una urna se empacan canicas de dos colores: rojas y \\nverdes. Por cada 3 canicas rojas se echan 7 verdes.\\n ¿Cuántas canicas rojas se empacaron en la urna si se sabe \\nque hay 574 verdes?\\n ¿Si en la urna hay 120 canicas en total, cuántas canicas hay \\nde cada color?\\n Un carro se desplaza 100 Km cada tres horas.\\n ¿Cuántos Kilómetros avanzará en 25,5 horas?\\n Advertencia: 25,5 horas no son 25 horas y 50 minutos; ya \\nque 25.5 horas son 25 horas y 5\\n10 de hora, o sea, 25 horas \\ny media ( 5\\n10 = 1\\n2 ).\\n2.  Juana tiene 1000 dulces, que desea empacar colocando la misma cantidad en \\ncada caja, hace la siguiente tabla para tener información rápida de la cantidad \\nde dulces que empaca en cada caja.\\nNúmero de cajas 1 2 3 4 5 6\\nDulces por caja 1000 500 333.3 250 200 166.6\\nElabora una gráfica cartesiana.\\nEstas dos magnitudes son directamente proporcionales.\\n¿La razón entre valores de las magnitudes es constante?')]"
      ]
     },
     "execution_count": 9,
     "metadata": {},
     "output_type": "execute_result"
    }
   ],
   "source": [
    "query = \"razones y proporciones\"\n",
    "docs = db.similarity_search(query)\n",
    "docs"
   ]
  },
  {
   "cell_type": "code",
   "execution_count": 10,
   "metadata": {},
   "outputs": [],
   "source": [
    "vdb_retriever = vdb.get_retriever()"
   ]
  }
 ],
 "metadata": {
  "kernelspec": {
   "display_name": ".venv",
   "language": "python",
   "name": "python3"
  },
  "language_info": {
   "codemirror_mode": {
    "name": "ipython",
    "version": 3
   },
   "file_extension": ".py",
   "mimetype": "text/x-python",
   "name": "python",
   "nbconvert_exporter": "python",
   "pygments_lexer": "ipython3",
   "version": "3.12.4"
  }
 },
 "nbformat": 4,
 "nbformat_minor": 2
}
