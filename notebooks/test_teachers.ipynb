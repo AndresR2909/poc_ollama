{
 "cells": [
  {
   "cell_type": "code",
   "execution_count": 1,
   "metadata": {},
   "outputs": [],
   "source": [
    "import os\n",
    "\n",
    "# Change the current working directory to the root directory\n",
    "os.chdir('../')"
   ]
  },
  {
   "cell_type": "code",
   "execution_count": 2,
   "metadata": {},
   "outputs": [],
   "source": [
    "from langchain_ollama import ChatOllama\n",
    "\n",
    "from src.teachers import MathPrimaryTeacher"
   ]
  },
  {
   "cell_type": "code",
   "execution_count": 3,
   "metadata": {},
   "outputs": [],
   "source": [
    "llm = ChatOllama(\n",
    "    model=\"llama3.1:8b\",\n",
    "    temperature=0\n",
    ")"
   ]
  },
  {
   "cell_type": "code",
   "execution_count": 4,
   "metadata": {},
   "outputs": [
    {
     "name": "stderr",
     "output_type": "stream",
     "text": [
      "/Users/andrestrepo/Documents/repos_personal/ollama/src/base_teacher.py:34: LangChainDeprecationWarning: Please see the migration guide at: https://python.langchain.com/docs/versions/migrating_memory/\n",
      "  self.memory = ConversationBufferMemory(\n"
     ]
    }
   ],
   "source": [
    "math_teacher = MathPrimaryTeacher(llm)"
   ]
  },
  {
   "cell_type": "code",
   "execution_count": 5,
   "metadata": {},
   "outputs": [
    {
     "name": "stdout",
     "output_type": "stream",
     "text": [
      "¡Hola chicos! Hoy vamos a hablar sobre algo muy divertido llamado \"factorizar\". ¿Alguno de ustedes sabe qué significa eso?\n",
      "\n",
      "Bueno, imagina que tienes un gran pastel de cumpleaños y quieres compartirlo con tus amigos. Pero en lugar de darles trozos grandes, prefieres dividir el pastel en pedazos más pequeños para que todos puedan tener una porción igual.\n",
      "\n",
      "Eso es básicamente lo que significa factorizar: encontrar los números o expresiones que se multiplican juntos para obtener un número o expresión más grande. ¡Es como descubrir los secretos del pastel!\n",
      "\n",
      "Imagina que tienes el número 12 y quieres saber qué números se multiplican para dar ese resultado. ¿Qué creen? Puedes intentarlo conmigo.\n",
      "\n",
      "¿Alguien sabe qué números se multiplican para dar 12?\n",
      "\n",
      "(Pausa para permitir que los estudiantes piensen)\n",
      "\n",
      "¡Exacto! El número 3 se multiplica por el número 4 para dar 12. ¡Eso es factorizar!\n",
      "\n",
      "Pero no solo podemos factorizar números enteros, también podemos hacerlo con expresiones más complicadas como x^2 + 5x + 6.\n",
      "\n",
      "¿Qué creen que significa esto? ¿Alguien puede ayudarme a encontrar los factores?\n",
      "\n",
      "(Pausa para permitir que los estudiantes piensen)\n",
      "\n",
      "¡Genial! El número 3 se multiplica por el número 2 para dar x^2 + 5x + 6. ¡Eso es factorizar!\n",
      "\n",
      "Recuerden, la factorización es como descubrir los secretos de un pastel o una expresión matemática. ¡Es divertido y fácil de aprender! ¿Alguien tiene alguna pregunta sobre esto?\n"
     ]
    }
   ],
   "source": [
    "print(math_teacher.teach(\"factorizar\"))"
   ]
  },
  {
   "cell_type": "code",
   "execution_count": 6,
   "metadata": {},
   "outputs": [
    {
     "name": "stdout",
     "output_type": "stream",
     "text": [
      "¡Claro que sí! Dividir es una operación matemática muy importante para entender cómo compartir o repartir objetos en partes iguales.\n",
      "\n",
      "Imagina que tienes 12 galletas y quieres compartirlas con tus amigos. Cada amigo debe recibir la misma cantidad de galletas. ¿Cuántas galletas deberías dar a cada amigo si hay 4 amigos?\n",
      "\n",
      "Podemos usar un número para representar las galletas: 12.\n",
      "\n",
      "Ahora, necesitamos encontrar el número que se repite para dividir las galletas en partes iguales entre los 4 amigos. Ese número es... ¡4!\n",
      "\n",
      "Para dividir, podemos usar la siguiente fórmula:\n",
      "\n",
      "Dividendo (12) ÷ Divisor (4) = Cociente\n",
      "\n",
      "En este caso, el cociente sería el número de galletas que cada amigo recibe.\n",
      "\n",
      "¿Quieres intentarlo tú mismo? ¿Cuánto crees que deberían recibir cada uno de tus amigos si hay 12 galletas y 4 amigos?\n",
      "\n",
      "(Luego te diré la respuesta)\n"
     ]
    }
   ],
   "source": [
    "print(math_teacher.chat(\"me enseñas a dividir\"))"
   ]
  }
 ],
 "metadata": {
  "kernelspec": {
   "display_name": ".venv",
   "language": "python",
   "name": "python3"
  },
  "language_info": {
   "codemirror_mode": {
    "name": "ipython",
    "version": 3
   },
   "file_extension": ".py",
   "mimetype": "text/x-python",
   "name": "python",
   "nbconvert_exporter": "python",
   "pygments_lexer": "ipython3",
   "version": "3.12.4"
  }
 },
 "nbformat": 4,
 "nbformat_minor": 2
}
