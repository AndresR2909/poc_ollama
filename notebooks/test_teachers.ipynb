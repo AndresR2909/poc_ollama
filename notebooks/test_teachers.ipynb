{
 "cells": [
  {
   "cell_type": "code",
   "execution_count": 1,
   "metadata": {},
   "outputs": [],
   "source": [
    "import os\n",
    "\n",
    "# Change the current working directory to the root directory\n",
    "os.chdir('../')"
   ]
  },
  {
   "cell_type": "code",
   "execution_count": 2,
   "metadata": {},
   "outputs": [],
   "source": [
    "from langchain_ollama import ChatOllama\n",
    "from langchain_chroma import Chroma\n",
    "from langchain_ollama import OllamaEmbeddings\n",
    "\n",
    "\n",
    "from src.teachers import MathPrimaryTeacher\n",
    "from src.vector_store import VectorStore"
   ]
  },
  {
   "cell_type": "code",
   "execution_count": 3,
   "metadata": {},
   "outputs": [
    {
     "data": {
      "text/plain": [
       "['articles-340089_ARCHIVO_PDF_MATEM_GRADO5_03.pdf']"
      ]
     },
     "execution_count": 3,
     "metadata": {},
     "output_type": "execute_result"
    }
   ],
   "source": [
    "path = \"data\"\n",
    "os.listdir(path)"
   ]
  },
  {
   "cell_type": "code",
   "execution_count": 4,
   "metadata": {},
   "outputs": [],
   "source": [
    "llm = ChatOllama(\n",
    "    model=\"llama3.1:8b\",\n",
    "    temperature=0\n",
    ")\n",
    "emmbedded_model = OllamaEmbeddings(base_url=\"http://localhost:11434\", model=\"nomic-embed-text\")"
   ]
  },
  {
   "cell_type": "code",
   "execution_count": 5,
   "metadata": {},
   "outputs": [],
   "source": [
    "vdb = VectorStore(path, vector_store = Chroma(), emmbedded_model = emmbedded_model ,  llm=llm)"
   ]
  },
  {
   "cell_type": "code",
   "execution_count": 6,
   "metadata": {},
   "outputs": [
    {
     "data": {
      "text/plain": [
       "<langchain_chroma.vectorstores.Chroma at 0x13419ba40>"
      ]
     },
     "execution_count": 6,
     "metadata": {},
     "output_type": "execute_result"
    }
   ],
   "source": [
    "vdb.create_vector_store()"
   ]
  },
  {
   "cell_type": "code",
   "execution_count": 7,
   "metadata": {},
   "outputs": [],
   "source": [
    "retriever = vdb.get_retriever()"
   ]
  },
  {
   "cell_type": "code",
   "execution_count": 8,
   "metadata": {},
   "outputs": [
    {
     "name": "stderr",
     "output_type": "stream",
     "text": [
      "/Users/andrestrepo/Documents/repos_personal/ollama/src/base_teacher.py:38: LangChainDeprecationWarning: Please see the migration guide at: https://python.langchain.com/docs/versions/migrating_memory/\n",
      "  self.memory = ConversationBufferMemory(\n"
     ]
    }
   ],
   "source": [
    "math_teacher = MathPrimaryTeacher(llm,retriever)"
   ]
  },
  {
   "cell_type": "code",
   "execution_count": 9,
   "metadata": {},
   "outputs": [
    {
     "name": "stdout",
     "output_type": "stream",
     "text": [
      "¡Hola chicos! Hoy vamos a hablar sobre algo muy divertido llamado \"factorizar\". ¿Alguno de ustedes sabe qué significa eso?\n",
      "\n",
      "Bueno, imagina que tienes un gran pastel de cumpleaños y quieres compartirlo con tus amigos. Pero en lugar de darles trozos grandes, prefieres dividir el pastel en pedazos más pequeños para que todos puedan tener una porción igual.\n",
      "\n",
      "Eso es básicamente lo que significa factorizar: encontrar los números o expresiones que se multiplican juntos para obtener un número o expresión más grande. ¡Es como descubrir los secretos del pastel!\n",
      "\n",
      "Imagina que tienes el número 12 y quieres saber qué números se multiplican para dar ese resultado. ¿Qué creen? Puedes intentarlo conmigo.\n",
      "\n",
      "¿Alguien sabe qué números se multiplican para dar 12?\n",
      "\n",
      "(Pausa para permitir que los estudiantes piensen)\n",
      "\n",
      "¡Exacto! El número 3 se multiplica por el número 4 para dar 12. ¡Eso es factorizar!\n",
      "\n",
      "Pero no solo podemos factorizar números enteros, también podemos hacerlo con expresiones más complicadas como x^2 + 5x + 6.\n",
      "\n",
      "¿Qué creen que significa esto? ¿Alguien puede ayudarme a encontrar los factores?\n",
      "\n",
      "(Pausa para permitir que los estudiantes piensen)\n",
      "\n",
      "¡Genial! El número 3 se multiplica por el número 2 para dar x^2 + 5x + 6. ¡Eso es factorizar!\n",
      "\n",
      "Recuerden, la factorización es como descubrir los secretos de un pastel o una expresión matemática. ¡Es divertido y fácil de aprender! ¿Alguien tiene alguna pregunta sobre esto?\n"
     ]
    }
   ],
   "source": [
    "print(math_teacher.teach(\"factorizar\"))"
   ]
  },
  {
   "cell_type": "code",
   "execution_count": 10,
   "metadata": {},
   "outputs": [
    {
     "name": "stdout",
     "output_type": "stream",
     "text": [
      "¡Claro que sí! Dividir es una operación matemática muy importante para entender cómo compartir o repartir objetos en partes iguales.\n",
      "\n",
      "Imagina que tienes 12 galletas y quieres compartirlas con tus amigos. Cada amigo debe recibir la misma cantidad de galletas. ¿Cuántas galletas deberías dar a cada amigo si hay 4 amigos?\n",
      "\n",
      "Podemos usar un número para representar las galletas: 12.\n",
      "\n",
      "Ahora, necesitamos encontrar el número que se repite para dividir las galletas en partes iguales entre los 4 amigos. Ese número es... ¡4!\n",
      "\n",
      "Para dividir, podemos usar la siguiente fórmula:\n",
      "\n",
      "Dividendo (12) ÷ Divisor (4) = Cociente\n",
      "\n",
      "En este caso, el cociente sería el número de galletas que cada amigo recibe.\n",
      "\n",
      "¿Quieres intentarlo tú mismo? ¿Cuánto crees que deberían recibir cada uno de tus amigos?\n",
      "\n",
      "(Luego te daré la respuesta para que puedas ver si estás en lo correcto)\n"
     ]
    }
   ],
   "source": [
    "print(math_teacher.chat(\"me enseñas a dividir\"))"
   ]
  },
  {
   "cell_type": "code",
   "execution_count": 11,
   "metadata": {},
   "outputs": [],
   "source": [
    "math_teacher.setup_knowledge_base()"
   ]
  },
  {
   "cell_type": "code",
   "execution_count": 12,
   "metadata": {},
   "outputs": [
    {
     "data": {
      "text/plain": [
       "'¡Claro! Vamos a resolver el problema de la división.\\n\\nEl problema es:\\n\\n3285.75 ÷ 3 = ?\\n\\nPara resolver este problema, podemos seguir los pasos siguientes:\\n\\n1. Escribe el número que se va a dividir (3285.75) sobre la línea de división.\\n2. Escribe el divisor (3) debajo del número.\\n3. Divide el número por el divisor, comenzando desde la derecha hacia la izquierda.\\n\\nAquí está la tabla:\\n\\n3285.75 ÷ 3\\n028   1095.25\\n 15\\n 07\\n  15\\n  0\\n\\nComo puedes ver, el cociente es 1095.25 y el residuo es cero.\\n\\nPor lo tanto, cada cliente recibirá 1095.25 metros de lino.\\n\\n¿Quieres practicar más divisiones?'"
      ]
     },
     "execution_count": 12,
     "metadata": {},
     "output_type": "execute_result"
    }
   ],
   "source": [
    "math_teacher.chat_with_knowledge_base(\"me enseñas a dividir\")"
   ]
  }
 ],
 "metadata": {
  "kernelspec": {
   "display_name": ".venv",
   "language": "python",
   "name": "python3"
  },
  "language_info": {
   "codemirror_mode": {
    "name": "ipython",
    "version": 3
   },
   "file_extension": ".py",
   "mimetype": "text/x-python",
   "name": "python",
   "nbconvert_exporter": "python",
   "pygments_lexer": "ipython3",
   "version": "3.12.4"
  }
 },
 "nbformat": 4,
 "nbformat_minor": 2
}
