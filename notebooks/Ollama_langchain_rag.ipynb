{
 "cells": [
  {
   "cell_type": "markdown",
   "id": "91ef305b-3c2b-49f4-911a-e09ccf5bed81",
   "metadata": {},
   "source": [
    "## Ollama with LangChain"
   ]
  },
  {
   "cell_type": "code",
   "execution_count": 17,
   "id": "c728dbc0-3bb7-4370-9110-f7fcc6b8af5c",
   "metadata": {},
   "outputs": [
    {
     "name": "stdout",
     "output_type": "stream",
     "text": [
      "Note: you may need to restart the kernel to use updated packages.\n"
     ]
    }
   ],
   "source": [
    "pip install langchain langchain-core langchain-Ollama langchain_community langchain_chroma chardet pypdf -q"
   ]
  },
  {
   "cell_type": "code",
   "execution_count": 1,
   "id": "19421697",
   "metadata": {},
   "outputs": [],
   "source": [
    "import os\n",
    "\n",
    "# Change the current working directory to the root directory\n",
    "os.chdir('../')"
   ]
  },
  {
   "cell_type": "code",
   "execution_count": 2,
   "id": "3d47cc00-0a8e-41b6-9e09-e684f9aa7055",
   "metadata": {},
   "outputs": [
    {
     "data": {
      "text/plain": [
       "[SystemMessage(content='\"Eres un profesor de primaria especializado en matemáticas. \\nTu objetivo es enseñar conceptos matemáticos a niños de manera clara, sencilla y entretenida.\\nUtiliza ejemplos cotidianos y lenguaje apropiado para su edad.\\nFomenta la curiosidad y promueve el pensamiento crítico, siempre mostrando paciencia y entusiasmo por las matemáticas.\\nsolo responde preguntas acerca de matematicas.\\n', additional_kwargs={}, response_metadata={}),\n",
       " HumanMessage(content='hola', additional_kwargs={}, response_metadata={})]"
      ]
     },
     "execution_count": 2,
     "metadata": {},
     "output_type": "execute_result"
    }
   ],
   "source": [
    "from langchain_core.prompts import ChatPromptTemplate\n",
    "math_teacher_prompt = \"\"\"\"Eres un profesor de primaria especializado en matemáticas. \n",
    "Tu objetivo es enseñar conceptos matemáticos a niños de manera clara, sencilla y entretenida.\n",
    "Utiliza ejemplos cotidianos y lenguaje apropiado para su edad.\n",
    "Fomenta la curiosidad y promueve el pensamiento crítico, siempre mostrando paciencia y entusiasmo por las matemáticas.\n",
    "solo responde preguntas acerca de matematicas.\n",
    "\"\"\"\n",
    "\n",
    "english_teacher_prompt = \"\"\"Eres un profesor de inglés con experiencia en enseñar a estudiantes de diferentes niveles.\n",
    "Tu misión es ayudar a los alumnos a mejorar su comprensión del idioma inglés, incluyendo gramática, vocabulario, pronunciación y habilidades de conversación.\n",
    "Proporciona explicaciones claras, ejemplos prácticos y ejercicios interactivos.\n",
    "Motiva a los estudiantes a practicar y a sentirse confiados en su aprendizaje del inglés.\n",
    "solo responde preguntas acerca del idioma ingles.\n",
    "\"\"\"\n",
    "\n",
    "chat_template = ChatPromptTemplate.from_messages(\n",
    "    [\n",
    "        (\"system\", math_teacher_prompt),\n",
    "        (\"human\", \"{user_input}\"),\n",
    "    ]\n",
    ")\n",
    "\n",
    "messages = chat_template.format_messages(user_input=\"hola\")\n",
    "messages"
   ]
  },
  {
   "cell_type": "code",
   "execution_count": 3,
   "id": "bb1ca89d-728d-47d5-9f98-fb5108947a30",
   "metadata": {},
   "outputs": [],
   "source": [
    "from langchain_ollama import ChatOllama\n",
    "llm = ChatOllama(\n",
    "    model=\"llama3.1:8b\",\n",
    "    temperature=0\n",
    ")"
   ]
  },
  {
   "cell_type": "code",
   "execution_count": 4,
   "id": "994b8650-b760-41fd-aa7b-be394440b396",
   "metadata": {},
   "outputs": [
    {
     "data": {
      "text/plain": [
       "AIMessage(content='¡Hola! Me alegra verte en mi clase de matemáticas. Hoy vamos a explorar algo nuevo y emocionante. ¿Qué te gustaría aprender sobre matemáticas hoy? ¿Quieres saber sobre números, operaciones, geometría o algo más?', additional_kwargs={}, response_metadata={'model': 'llama3.1:8b', 'created_at': '2024-12-10T23:55:30.184887Z', 'done': True, 'done_reason': 'stop', 'total_duration': 3727855250, 'load_duration': 578658083, 'prompt_eval_count': 126, 'prompt_eval_duration': 644000000, 'eval_count': 57, 'eval_duration': 2241000000, 'message': Message(role='assistant', content='', images=None, tool_calls=None)}, id='run-5a363b75-898c-4bbb-a7a0-e802d6e58473-0', usage_metadata={'input_tokens': 126, 'output_tokens': 57, 'total_tokens': 183})"
      ]
     },
     "execution_count": 4,
     "metadata": {},
     "output_type": "execute_result"
    }
   ],
   "source": [
    "ai_msg = llm.invoke(messages)\n",
    "ai_msg"
   ]
  },
  {
   "cell_type": "code",
   "execution_count": 5,
   "id": "4bdf804d",
   "metadata": {},
   "outputs": [
    {
     "name": "stdout",
     "output_type": "stream",
     "text": [
      "¡Hola! Me alegra verte en mi clase de matemáticas. Hoy vamos a explorar algo nuevo y emocionante. ¿Qué te gustaría aprender sobre matemáticas hoy? ¿Quieres saber sobre números, operaciones, geometría o algo más?\n"
     ]
    }
   ],
   "source": [
    "print(ai_msg.content)"
   ]
  },
  {
   "cell_type": "code",
   "execution_count": 6,
   "id": "1be71b0e-e80d-4a6f-86e6-cb26b5cd513f",
   "metadata": {},
   "outputs": [],
   "source": [
    "from langchain_core.output_parsers import StrOutputParser\n",
    "chain = chat_template | llm | StrOutputParser()"
   ]
  },
  {
   "cell_type": "code",
   "execution_count": 7,
   "id": "46c3a7d5-2e67-4d56-9b4f-eb61b5092d25",
   "metadata": {},
   "outputs": [
    {
     "data": {
      "text/plain": [
       "'Lo siento, pero \"onomatopoeia\" no es una pregunta relacionada con matemáticas. ¿Quieres hacerme otra pregunta sobre un tema como álgebra, geometría, números, etc.? Estoy aquí para ayudarte a resolver problemas o explicar conceptos matemáticos de manera clara y sencilla.'"
      ]
     },
     "execution_count": 7,
     "metadata": {},
     "output_type": "execute_result"
    }
   ],
   "source": [
    "chain.invoke({\"user_input\": \"Onomatopoeia\"})"
   ]
  },
  {
   "cell_type": "markdown",
   "id": "61f4a27e-1258-4cf8-9730-6f9cad7c7903",
   "metadata": {},
   "source": [
    "## RAG Application using Ollama and Langchain"
   ]
  },
  {
   "cell_type": "code",
   "execution_count": 48,
   "id": "6a2054a8-07c3-4481-b4ff-60ec7bd7a55a",
   "metadata": {},
   "outputs": [],
   "source": [
    "from langchain_community.document_loaders import TextLoader, PyPDFLoader\n",
    "from langchain_text_splitters import RecursiveCharacterTextSplitter, CharacterTextSplitter, TextSplitter\n",
    "#from langchain.embeddings import OllamaEmbeddings\n",
    "from langchain_chroma import Chroma\n",
    "from langchain_ollama import ChatOllama, OllamaEmbeddings"
   ]
  },
  {
   "cell_type": "code",
   "execution_count": 10,
   "id": "868ad333",
   "metadata": {},
   "outputs": [
    {
     "name": "stdout",
     "output_type": "stream",
     "text": [
      "\u001b[34mdata\u001b[m\u001b[m/      \u001b[34mnotebooks\u001b[m\u001b[m/ \u001b[34msrc\u001b[m\u001b[m/\n"
     ]
    }
   ],
   "source": [
    "ls"
   ]
  },
  {
   "cell_type": "code",
   "execution_count": 49,
   "id": "a3a8cd01-e4cd-4863-85fc-f2122b4ac828",
   "metadata": {},
   "outputs": [],
   "source": [
    "raw_documents = PyPDFLoader(\"data/articles-340089_ARCHIVO_PDF_MATEM_GRADO5_03.pdf\").load()"
   ]
  },
  {
   "cell_type": "code",
   "execution_count": 50,
   "id": "583d737a-3aab-44b0-821b-ce89a8a6dab6",
   "metadata": {},
   "outputs": [
    {
     "data": {
      "text/plain": [
       "[Document(metadata={'source': 'data/articles-340089_ARCHIVO_PDF_MATEM_GRADO5_03.pdf', 'page': 0}, page_content='Tercera Cartilla\\nMatemáticas\\nEscuela Nueva\\n'),\n",
       " Document(metadata={'source': 'data/articles-340089_ARCHIVO_PDF_MATEM_GRADO5_03.pdf', 'page': 1}, page_content='diseño y diagramación\\nElvira Ausique Lozano\\ndirección editorial \\nMaría Constanza Pardo Sarmiento\\nKarem Langer Pardo  \\nGloria Díaz Granados M. diseño proyecto gráfico\\nMaría José Díaz Granados M. corrección estilo\\nJuan Ramón Sierra, Sebastián González Pardo. ilustración\\nJavier David Tibocha. digitalización imágenes \\nMaría Eugenia Caicedo Concha, María Consuelo Aguirre,  \\nFanny Sarmiento, Martha Lucía Vega. asesoras\\nBlanca Elvira Villalobos Guarín. coordinadora administrativa\\nImágenes de las cartillas de Escuela Nueva 2010;  \\ncon derechos de autor previstos por las leyes nacionales e \\ninternacionales.\\n© Alejo y Mariana son una creación “exclusiva” para las cartillas de \\nEscuela Nueva. Por tanto, sólo podrán ser utilizados para Escuela Nueva.  \\nEstos personajes han sido registrados por sus autores en la Dirección Nacional \\nde Derechos de Autor del Ministerio de Gobierno, y están cobijados por las \\nleyes nacionales e internacionales en materia de Derechos. Por lo anterior, no \\npodrán ser modificados, alterados o utilizados de otra manera diferente para la \\ncual fueron creados.\\nautores\\nJorge Castaño García\\nAlexandra Oicatá Ojeda\\ncoordinadora de proyecto\\nPatricia Enciso Patiño\\nDiseño y Dirección  \\nProyecto Escuela Nueva 2010\\nApoyo y acompañamiento\\nComité de Cafeteros de Caldas\\nMaría Fernanda Campo Saavedra\\nMinistra de Educación Nacional\\nMauricio Perfetti del Corral\\nViceministro de Educación Preescolar, Básica y Media\\nMónica López Castro\\nDirectora de Calidad para la Educación Preescolar,  \\nBásica y Media\\nHeublyn Castro Valderrama\\nSubdirectora de Referentes y  \\nEvaluación de la Calidad Educativa\\nHeublyn Castro Valderrama\\nCoordinadora del proyecto \\nClara Helena Agudelo Quintero\\nGina Graciela Calderón\\nLuis Alexander Castro\\nMaría del Sol Effio Jaimes\\nFrancy Carranza Franco\\nOmar Hernández Salgado\\nEdgar Mauricio Martínez Morales\\nJesús Alirio Naspiran\\nEmilce Prieto Rojas\\nEquipo Técnico\\n© 2010 Ministerio de Educación Nacional\\nTodos los derechos reservados\\nProhibida la reproducción total o parcial, el registro o la transmisión \\npor cualquier medio de recuperación de información,  \\nsin permiso previo del Ministerio de Educación Nacional.\\n© Ministerio de Educación Nacional \\nISBN libro: 978-958-8712-40-6 \\nISBN obra: 978-958-33-3362-0\\nDirección de Calidad para la Educación Preescolar,  \\nBásica y Media\\nSubdirección de Referentes y Evaluación de la Calidad Educativa \\nMinisterio de Educación Nacional  \\nBogotá, Colombia, 2010 \\nwww.mineducacion.gov.co\\nAgradecemos a los profesionales que participaron en la pri-\\nmera edición de las cartillas Escuela Nueva 1997, Ministerio \\nde Educación Nacional. Muchos de los textos de la edición \\n2010, se basaron en la edición 1997. También agradecemos \\ny reconocemos a los autores, ilustradores, diagramadores, \\ncorrectores, editores y demás profesionales que participaron  \\nen dicha edición. '),\n",
       " Document(metadata={'source': 'data/articles-340089_ARCHIVO_PDF_MATEM_GRADO5_03.pdf', 'page': 2}, page_content='Hola, somos \\n Mariana, \\nAlejo y\\nVamos a emprender \\ncontigo un viaje \\nmuy interesante y \\ndivertido.\\n¡Verás qué maravilloso es conocer, compartir, investigar y aprender!\\n¡Y como todo viaje necesita mapas, una buena brújula, provisiones…, \\naquí tenemos TODO! \\nLas cartillas de Escuela Nueva serán nuestros mapas, mira cómo están \\norganizadas para que puedas recorrer el camino más fácilmente.  \\nVamos a recorrer UNIDADES que se dividen en GUÍAS: 1, 2, 3, 4.\\nCada Guía se divide en cuatro partes: A, B, C y D. Por eso vas a ver  \\nque las guías se ordenan así: GUÍA 1A, GUÍA 1B, GUÍA 1C, GUÍA 1D;  \\nGUÍA 2A, GUÍA 2B, GUÍA 2C, GUÍA 2D... y así sucesivamente.\\nEn la PARTE A de las GUÍAS te invitamos a resolver situaciones \\nproblema con tus ideas y con las de tus compañeros; intenta inventar \\ntus propias soluciones, que aunque no siempre sean las mejores, \\nte ayudarán a entender lo que sabes y cómo lo sabes. Aprender se \\nparece más a transformar, poco a poco, las ideas que uno tiene de las \\ncosas, de la gente, del mundo,… que a memorizar lo que \\notros nos dicen.\\nEn la PARTE B de las GUÍAS realizarás actividades para \\nque amplíes y profundices tus conocimientos. Te pediremos, \\nque junto a tus compañeros, compares soluciones y decidas \\nsobre las que te parecen mejor.\\n'),\n",
       " Document(metadata={'source': 'data/articles-340089_ARCHIVO_PDF_MATEM_GRADO5_03.pdf', 'page': 3}, page_content='En la PARTE C de las GUÍAS realizarás actividades \\npara que precises y amplíes lo que has aprendido \\nen las dos partes anteriores.\\nEn la PARTE D de las GUÍAS realizarás actividades \\npara que apliques lo que has aprendido a \\nsituaciones de tu vida y de tu comunidad.\\nLa brújula somos Alejo y Mariana  \\npues te ayudaremos todo el tiempo; las \\nprovisiones son nada menos que todo  \\nlo que tienes dentro como ser humano: \\nexperiencia, sueños, alegría, curiosidad, \\ncamaradería…\\nBueno ahora sí \\nEstas imágenes \\nse llaman Íconos, las \\nencontrarás a lo largo \\nde las cartillas para \\nque sepas qué hacer en \\ndiferentes \\nmomentos.\\na ¡VOLAR!\\n'),\n",
       " Document(metadata={'source': 'data/articles-340089_ARCHIVO_PDF_MATEM_GRADO5_03.pdf', 'page': 4}, page_content='Unidad 6 Algo más sobre decimales 7\\n Guía 14.Aprendamos sobre operaciones\\n  con decimales 10\\nUnidad 7 Algo más sobre \\n razones y proporciones 29\\n Guía 15. Estudiemos escalas y porcentajes 32\\nUnidad 8 Nuevamente sobre variacional 45\\n Guía 16. Identifiquemos magnitudes que\\n   varían en forma proporcional 48\\nUnidad 9 Algo más sobre oganización \\n de datos y arreglos 63\\n Guía 17. Comparemos resultados \\n  de encuestas 66\\n Guía 18. Aprendamos algo más \\n  de arreglos 80\\n'),\n",
       " Document(metadata={'source': 'data/articles-340089_ARCHIVO_PDF_MATEM_GRADO5_03.pdf', 'page': 5}, page_content=''),\n",
       " Document(metadata={'source': 'data/articles-340089_ARCHIVO_PDF_MATEM_GRADO5_03.pdf', 'page': 6}, page_content='Unidad 6 \\nAlgo más sobre  \\ndecimales'),\n",
       " Document(metadata={'source': 'data/articles-340089_ARCHIVO_PDF_MATEM_GRADO5_03.pdf', 'page': 7}, page_content='Matemáticas\\n8\\n'),\n",
       " Document(metadata={'source': 'data/articles-340089_ARCHIVO_PDF_MATEM_GRADO5_03.pdf', 'page': 8}, page_content='9\\n•\\t\\n•\\tInterpreto las fracciones en diferentes contextos: situaciones de medición, relaciones parte todo, \\ncociente, razones y proporciones.\\n•\\tIdentifico y uso medidas relativas en distintos contextos.\\n•\\tUtilizo la notación decimal para expresar fracciones en diferentes contextos y relaciono estas dos \\nnotaciones con la de los porcentajes.\\n•\\tResuelvo y formulo problemas en situaciones aditivas de composición, transformación, \\ncomparación e igualación.\\n•\\tUso diversas estrategias de cálculo y de estimación para resolver problemas en situaciones aditivas \\ny multiplicativas.\\nGUÍA 14. APRENDAMOS SOBRE OPERACIONES CON DECIMALES\\nEstándares:\\nTrabajar en Escuela Nueva los siguientes \\nCompetencias en Matemáticas\\nMe permite desarrollar mis \\nUnidad 6'),\n",
       " Document(metadata={'source': 'data/articles-340089_ARCHIVO_PDF_MATEM_GRADO5_03.pdf', 'page': 9}, page_content='Matemáticas\\n10\\nAprendamos sobre operaciones \\ncon decimales\\n Calculemos adiciones y sustracciones de decimales\\nAntes de sumar y restar números decimales, resuelvan problemas que les permitan \\nafianzar el significado de las operaciones de adición y sustracción.\\nGuía 14 A\\n1. En una jornada de solidaridad organizada por la Cruz Roja \\nColombiana, don Agustín hizo una donación de $30845. Su \\nhermano el señor Adolfo donó $5350 más que don Agustín. \\n¿De cuánto fue la contribución del Señor Adolfo?\\nPrimero leamos bien el problema para \\ncomprender qué nos preguntan y con qué \\ndatos contamos.\\nDon Agustín donó $30845.\\nEl señor Adolfo $5350 más que don Agustín.\\nLa pregunta  \\nes muy clara, debemos averiguar \\nla cuantía de la donación del \\nseñor Adolfo.\\nProcedamos con la información que tenemos:\\n30845 + 5350 donación del señor Adolfo'),\n",
       " Document(metadata={'source': 'data/articles-340089_ARCHIVO_PDF_MATEM_GRADO5_03.pdf', 'page': 10}, page_content='11\\nGuía 14 A\\nEl señor Adolfo donó un poco más de 36000 pesos.\\nLos sumandos se colocan de tal manera que las \\nunidades del mismo orden queden en columnas.\\n30845\\n+ 5350\\n36195\\n¡La donación del \\nseñor Adolfo fue de \\n$36195!\\nDon Agustín y el señor Adolfo llevaron su donación en \\ncheques. Observen cómo son estos cheques y cómo \\nescribieron ellos la cantidad de dinero correspondiente:\\n¿Qué diferencia observan entre la forma de escribir las cantidades de \\ndinero en los cheques y la forma como están escritos en el problema y en la \\nsolución de éste?\\n30845  30845.00\\n36195  36195.00\\nEl punto decimal se marca y se \\nllenan con ceros los dos primeros \\nlugares decimales.\\nPero la cantidad de dinero en mención es la misma:\\n $30845 = $30845.00\\n $36195 = $36195.00\\nLos dos ceros a la derecha  \\ndel punto indican que las donaciones no incluyen \\ncentésimas de pesos. Las centésimas de pesos se \\nllaman centavos. Hace mucho tiempo dejaron de \\ncircular las monedas de centavo y diez centavos. \\nAverigua con los abuelos lo que compraban con \\nestas monedas.\\n'),\n",
       " Document(metadata={'source': 'data/articles-340089_ARCHIVO_PDF_MATEM_GRADO5_03.pdf', 'page': 11}, page_content='Matemáticas\\n12\\n El mismo día de la jornada de solidaridad las Juntas de Acción Comunal de \\ntres localidades llevaron cheques por los siguientes valores: $12350.85; \\n$8037.20 y $20904.00. ¿Cuánto aportaron entre las tres?\\n La lectura atenta del problema permite saber de manera directa cuál es la \\noperación que debe realizarse para responder la pregunta.\\n ¿Pueden hacer, mentalmente, una estimación de esta suma?\\nEsta suma alcanza los \\ncuarenta y dos mil pesos… \\nestá muy cerca de cuarenta y \\nun mil doscientos pesos.\\nLa suma se halla como ya lo \\nsabíamos; ahora el cuidado está \\nen colocar el punto decimal en la \\ncolumna correspondiente.\\nAl colocar en columnas las unidades de la parte \\nentera, los puntos decimales quedan en columna y \\nlas unidades de la parte decimal también.\\n  1\\n12350.85\\n 8037.20\\n+ 20904.00\\n41292.05\\n ¡Las tres juntas de Acción Comunal aportaron un total de $41292.05! '),\n",
       " Document(metadata={'source': 'data/articles-340089_ARCHIVO_PDF_MATEM_GRADO5_03.pdf', 'page': 12}, page_content='13\\n Al finalizar la jornada la Cruz Roja decidió dejar $1700850.55 para \\nreconstruir la escuela local y la cantidad restante $3750955.85 para los \\nfondos comunes destinados a las demás obras regionales. ¿Cuánto dinero \\nse recolectó en dicha jornada?\\nSabemos que del dinero  \\nrecolectado se hicieron dos partes, \\nuna para la escuela y otra para \\nfondos comunes.\\nComo el número  \\ntiene muchas cifras, utilizaremos el punto  \\npara dos funciones distintas: para separar \\nunidades de mil y de millón y para separar la \\nparte entera de la decimal. \\nEn muchos documentos por ejemplo, documentos \\nde los bancos, utilizan “,” para separar las \\nunidades de mil y de millón,  \\nen ese caso escriben  \\n$ 1,700,850.55\\n 1700850.55\\n+ 3750955.85\\n Haz una estimación del resultado y calcula la suma en tu cuaderno.\\n Del dinero que se dejó para la escuela, $1700850.55, se va a emplear \\n$850500.00 en mobiliario. ¿Cuánto queda para las otras reparaciones?\\n2. Comparen la operación que realizaron con la siguiente:\\nPara restar se coloca el sustraendo debajo del minuendo, \\nde tal manera que los puntos decimales queden en \\ncolumna y… ¿qué más?\\n¿Cómo prueban si ese resultado es correcto? ¡Háganlo!\\n¿Cuál es la respuesta al problema?\\n– En otro puesto la Cruz Roja recolectó $2830720.90.\\n¿Cuánto más recolectó el puesto anterior que éste?\\n¿Cuánto recolectaron entre los dos?\\n3.  Inventen otro problema que requiera de la adición o de la sustracción de \\nnúmeros decimales. Intercambien sus cuadernos para que compartan la \\nriqueza de sus trabajos.\\nGuía 14 A\\n \\n1700850.55\\n– 850500.00\\n850350.55'),\n",
       " Document(metadata={'source': 'data/articles-340089_ARCHIVO_PDF_MATEM_GRADO5_03.pdf', 'page': 13}, page_content='Matemáticas\\n14\\n Multipliquemos números decimales\\nGuía 14 B\\n1. En cartulina recorten una tarjeta que tenga las medidas \\nindicadas en el dibujo.\\n¿Cuál es el área de la tarjeta?\\n¡El área debe ser un poco \\nmás de 28 cm2!\\nTú tienes razón,  \\npara saber cuánto más, \\ndebemos hallar el producto de \\n7.6 cm por 4.3 cm. Son dos \\nnúmeros decimales. ¿Cómo se \\nmultiplicarán?\\n7.6 cm x 4.3 cm =  cm2\\n Lleven la situación a otra ya conocida y después vuelvan a la \\noriginal. Saben cómo multiplicar 76 X 43 ¿verdad?\\n7.6 cm = 76 mm 76\\n4.3 cm = 43 mm x 43\\n  228\\n  304    \\n  3268\\nEl área de la tarjeta es 3268 mm2.\\n7.6 cm\\n4.3 cm'),\n",
       " Document(metadata={'source': 'data/articles-340089_ARCHIVO_PDF_MATEM_GRADO5_03.pdf', 'page': 14}, page_content='15\\nLos milímetros cuadrados se pueden convertir en centímetros cuadrados.\\n100 mm2 = 1 cm2\\n¡Hay que dividir entre 100!\\n3268 mm2 = 32.68 cm2.\\n32.68 cm2 debe ser el producto de 7.6 cm x 4.3 cm\\n7.6 cm x 4.3 cm  = 32.68 cm2\\nUna cifra  Una cifra  Dos cifras\\ndecimal  decimal  decimales\\n Para tener otra explicación del resultado anterior, expresen los dos números \\ndecimales mediante fracciones.\\n76\\n10\\n76\\n10\\n43\\n10\\n76 x 43\\n10 x 10\\n3268\\n100\\n7.6 =\\n32.68 entonces:\\n43\\n10\\n4.3 =\\nx = = =\\n7.6 x 4.3 = 32.68\\nPara multiplicar fraccionarios, \\nbasta multiplicar los numeradores \\ny los denominadores.\\nEl área de la tarjeta es de 32.68 cm2\\n En papel periódico hagan un cuadrado de 1 m de lado y luego dóblenlo por \\ndos de su ejes de simetría, como indica el dibujo:\\n ¿Cuál es el área de la parte rayada?\\n1 m\\n1 m\\nGuía 14 B'),\n",
       " Document(metadata={'source': 'data/articles-340089_ARCHIVO_PDF_MATEM_GRADO5_03.pdf', 'page': 15}, page_content='Matemáticas\\n16\\nEs un cuarto del área del cuadrado, es decir un cuarto \\nde un metro cuadrado.\\n ¿Cómo hallamos ese resultado numéricamente?\\n Los lados de este cuadradito miden  m = 0.5 m\\n El área se puede hallar de dos maneras:\\n0.5 m\\n0.5 m\\n1\\n2\\n m x 1\\n2 m = 1\\n4\\n m2\\n0.5 m x 0.5 m = 5\\n10 m x 5\\n10 m = 25\\n100 m2 = 0.25 \\nm2\\n 0.5 m  x 0.5 m = 0.25 m2\\n Una cifra Una cifra Dos cifras\\n decimal decimal decimales\\nUn cuarto de m2 es lo mismo \\nque veinticinco centésimas de m2 \\nporque: 0,25 = 25\\n100  = 1\\n4 \\n¡Esto es como jugar con \\ngarabatos!\\n Olvidemos ahora los rótulos que acompañan a los \\nfactores y al producto, es decir los nombres de las \\nunidades y pensemos en la multiplicación:\\n0.5 x 0.5 = 0.25\\n¿Cómo son los factores comparados con el producto?\\n0.5 es mayor que 0.25\\nCada uno de los factores decimales es mayor que el producto. En los números \\nque aprendimos antes, en los naturales, el producto siempre era mayor que los \\nfactores. Con excepción del cero, que todo anula, y del 1 que no hace nada. \\nPero aquí en los decimales y en los fraccionarios el producto no siempre es \\nmayor que los factores.\\n2.  Digan si los siguientes productos son mayores o menores que el mayor \\nde los factores en:\\n  0.5 x 12 5 x 12 6 x 8\\n  0.3 x 0.4 3 x 4 6 x 0.8'),\n",
       " Document(metadata={'source': 'data/articles-340089_ARCHIVO_PDF_MATEM_GRADO5_03.pdf', 'page': 16}, page_content='17\\n0.75 m\\n0.5 m\\nEn la otra parte del cuadrado que hicieron en papel periódico, consideren un \\nrectángulo cuyos lados midan 0.5 m y 0.75 m.\\n  ¿Cuál es el área del rectángulo?\\nGuía 10 CGuía 1 B\\n0.5 m =  m\\n0.75 m =  m\\nEl área del rectángulo se puede hallar de varias maneras:\\n0.5 m x 0.75 m =  m2\\n0.5 m x 0.75 m =  0.375 m2\\nUna cifra Dos cifras Tres cifras\\ndecimal decimales decimales\\n5\\n10\\n75\\n100\\n5 x 75\\n10 x 100\\n375\\n1000\\n0.375. Entonces:x = = =\\nPara hallar el área también se puede proceder así:\\n1 m x 3 m = 1 x 3  m2  = 3 m2\\n2  4 2 x 4 8\\n se puede expresar como un decimal, hagan la división correspondiente y comparen \\nel cociente con 0.375.\\nEl área del rectángulo punteado es de 0.375 m2.\\nNuevamente quitémosle a los factores y al producto los rótulos, es decir los nombres \\nde las unidades y consideremos la multiplicación.\\n 0.5 x 0.75 = 0.375\\n ¿Cómo es el producto comparado con cada uno de los factores?\\nObservando atentamente el \\ndibujo se pueden verificar esas \\ndos igualdades.\\nGuía 14 B'),\n",
       " Document(metadata={'source': 'data/articles-340089_ARCHIVO_PDF_MATEM_GRADO5_03.pdf', 'page': 17}, page_content='Matemáticas\\n18\\nHasta aquí hemos realizado tres multiplicaciones con números decimales.\\n7.6 x 4.3 = 32.68\\nUna cifra  Una cifra  Dos cifras\\ndecimal  decimal  decimales\\n0.5 x 0.5 = 0.25\\nUna cifra  Una cifra  Dos cifras\\ndecimal  decimal  decimales\\n0.5 x 0.75 = 0.375\\nUna cifra  Dos cifras  Tres cifras\\ndecimal  decimales  decimales\\n Con base en estos resultados, ¿pueden ir elaborando alguna \\nconclusión acerca de cómo multiplicar números decimales?\\n Sigan trabajando con el cuadrado de papel periódico, \\nhallen ahora el área del rectángulo pequeño que está al lado \\nderecho del rectángulo punteado.\\n ¿Qué conocen acerca de este rectángulo?\\nSus lados miden 0.25 m y 0.5 m o \\ntambién  m y  m ¿Por qué?\\n0.25 m\\n0.5 m\\nComo en los casos anteriores, partamos de lo que \\nya sabemos:\\n0.25 m =  25 m  y  0.5 m =  5  m \\n   100   10\\nÁrea del rectángulo = 0.25 m x 0.5 m =  m2'),\n",
       " Document(metadata={'source': 'data/articles-340089_ARCHIVO_PDF_MATEM_GRADO5_03.pdf', 'page': 18}, page_content='19\\nGuía 14 B\\n¿Cómo son los factores \\ncomparados con el producto?\\n0.25 m x 0.5 m =  0.125 m2\\nDos cifras Una cifra Tres cifras\\ndecimales decimal decimales\\n25\\n100\\n5\\n10\\n25 x 5\\n100 x 10\\n125\\n1000\\n0.125 entonces:x = = =\\nFíjense que 125 es el producto de 25 x 5, y para obtener 0.125 se separan en ese \\nproducto 3 cifras decimales, siendo 3 la suma de 2 y 1, que representan el número \\nde cifras decimales de los factores.\\nPara multiplicar dos números decimales se procede como si fueran \\nnúmeros naturales; se cuentan las cifras decimales que tienen en total \\nlos factores y este mismo número de cifras se separa en el producto.\\n Para finalizar el trabajo, con el cuadrado hallen su área a partir \\nde las áreas de las figuras que se obtuvieron de él.\\nHagan la suma en sus cuadernos.\\n0.375 m2\\n               +  0.125 m2\\n  0.250 m2\\n  0.250 m2\\n0.375 m2  0.125 m2\\n0.250 m2 0.250 m2'),\n",
       " Document(metadata={'source': 'data/articles-340089_ARCHIVO_PDF_MATEM_GRADO5_03.pdf', 'page': 19}, page_content='Matemáticas\\n20\\nEn sus cuadernos hallen el área de:\\n3. Comparen sus respuestas y procedimientos.\\n4.  En los libros que tienen a su disposición en la biblioteca, consulten este tema \\ny si encuentran dificultades que no lleguen a superar entre ustedes, soliciten \\norientaciones al profesor o la profesora. \\n3.4 cm\\n5 cm 3 cm 4.85 cm\\n4.2 cm\\n2.7 cm'),\n",
       " Document(metadata={'source': 'data/articles-340089_ARCHIVO_PDF_MATEM_GRADO5_03.pdf', 'page': 20}, page_content='21\\nGuía 1 D\\nGuía 14 C\\nGuía 14C\\n Dividamos fraccionarios\\n1.  Resuelvan los problemas y estudien la forma como se hacen \\nlas divisiones.\\n Una firma distribuidora de telas recibió 3285.75 m de lino que debe \\ndespachar, por igual, a 3 clientes. ¿Cuántos metros recibirá cada uno?\\nEl cociente es un \\nnúmero decimal y el \\nresiduo es cero.\\n3285.75  3\\n028   1095.25\\n 15\\n 07\\n  15\\n  0\\nCada cliente recibirá 1095.25 m de lino.'),\n",
       " Document(metadata={'source': 'data/articles-340089_ARCHIVO_PDF_MATEM_GRADO5_03.pdf', 'page': 21}, page_content='Matemáticas\\n22\\n Un joyero tiene 18.6 gramos de oro para hacer 7 dijes del mismo \\npeso. ¿Cuántos gramos debe utilizar por cada dije?\\nEl cociente es  \\nuna expresión decimal, que no \\ncorresponde a una fracción decimal, \\nporque no se puede expresar como \\nuna fracción cuyo denominador sea \\nuna potencia de diez.\\nEl joyero debe utilizar para cada dije 2.65 g de oro, aproximadamente. \\nEn cada una de las divisiones que hemos realizado:\\n ¿Qué clase de número es el dividendo?\\n ¿Qué clase de número es el divisor?\\n ¿Qué clase de número es el cociente?\\n18.6 7\\n  46 2.65714285…\\n 40\\n 50\\n 10\\n 30\\n 20\\n 60\\n  40\\n 5 ¡Nunca terminaríamos!'),\n",
       " Document(metadata={'source': 'data/articles-340089_ARCHIVO_PDF_MATEM_GRADO5_03.pdf', 'page': 22}, page_content='23\\n El doctor Varela, veterinario de la vereda Sincerin, dispone de 2.1 g de un \\nproducto químico con el cual debe preparar unas inyecciones para los cerdos. \\nCada inyección debe tener 0.075 g de dicho componente.\\n ¿Cuántas inyecciones podrá preparar el doctor Varela?\\n 2.1  0.075\\n Para responder la pregunta es necesario hacer la siguiente división:\\n2.1 tiene una cifra decimal, \\n0.075 tiene tres cifras \\ndecimales. ¿Cómo proceder?\\n  Traten de convertir esta situación en otra parecida a las anteriores donde el \\ndivisor es un número natural.\\n   0.075 debe convertirse en 75, hay que multiplicar por 1000\\n   0.075 x 1000 = 75\\n ¿Qué hacer con el dividendo para que el cociente no se altere?\\n ¡También multiplicamos por 1000!\\n     2.1 x 1000 = 2100\\nGuía 14 C'),\n",
       " Document(metadata={'source': 'data/articles-340089_ARCHIVO_PDF_MATEM_GRADO5_03.pdf', 'page': 23}, page_content='Matemáticas\\n24\\n \\nAhora se puede hacer la división.\\n 2100 75\\n   600 28\\n  00\\n¿Será cierto que 28  \\ntambién es el cociente de 2.1 ÷ 0.075? \\n¿Cómo podemos verificarlo? ¡Haciendo  \\nla prueba de la división!\\nSi 2.1 ÷ 0.075 = 28, entonces 0.075 x 28 = 2.1\\nYa saben cómo hacer esa multiplicación, háganla:\\n 0.075 x 28\\n 75\\n x  28\\n 600\\n+ 150    \\n 2100    2100 = 2.1\\n 2100 ÷ 75 da lo mismo que 2.1 ÷ 0.075\\nEl doctor Varela podrá preparar 28 inyecciones para los cerdos.\\n¿Qué se hizo para hallar ese cociente?\\nVéanlo paso a paso:\\n2.1 tiene una \\ncifra decimal\\n0.075 tiene tres \\ncifras decimales\\nSe multiplica el \\ndivisor por la \\npotencia de 10 \\nnecesaria para \\nquitar el punto \\ndecimal. \\n0.075 x 1000 \\n75\\nSe multiplica el \\ndividendo por la \\nmisma potencia \\nde 10.\\n2.1 x 1000 \\n2100\\nSe efectúa  \\nla división  \\n2100 ÷ 75\\nSe separan \\ntres cifras'),\n",
       " Document(metadata={'source': 'data/articles-340089_ARCHIVO_PDF_MATEM_GRADO5_03.pdf', 'page': 24}, page_content='25\\nGuía 14 C\\n2.  Hagan otra división: 0.36 0.6\\n El cociente de esa división da lo mismo que hallar 3.6  6  En sus cuadernos \\nrealicen la división y hagan la prueba correspondiente.\\n3.  Completen:\\n 0.42 0.7  da lo mismo que  _________________\\n \\n 23.41 21.4  da lo mismo que  _________________\\n 58.55 0.015  da lo mismo que  _________________\\n4. De los siguientes rectángulos se conoce el área y uno de sus lados:\\n¿Cuál es la longitud del otro lado?\\n¿Cuáles son sus perímetros?\\nÁrea = 32.5 m2 Área = 33 m25 m\\n7.5 m\\n'),\n",
       " Document(metadata={'source': 'data/articles-340089_ARCHIVO_PDF_MATEM_GRADO5_03.pdf', 'page': 25}, page_content='Matemáticas\\n26\\n1. Halla una expresión decimal para cada fracción:\\n Apliquemos las operaciones con decimales  \\nGuía 14 D\\n  436 1745 5346 706\\n  100 10 1000 14\\n  4 1 3 5 35 60 28\\n  10 6 8 2 10 10 100\\n2.  ¿Cómo lees estos números? Escribe su nombre.\\n  47103.25 2423800.00 0.0003\\n  471.0325 2423.80000 0.028\\n3.  El movimiento de la cuenta de ahorros de Marco Aurelio, durante la semana \\nse registró así:\\nLunes Martes  Miércoles Jueves Viernes Total\\nDepósitos\\n673803.50 53000.75 1203690.35 900000 3890720.85\\n200800.80\\nRetiros 500000.00 973308.75 2546309.25\\nTOTAL\\n'),\n",
       " Document(metadata={'source': 'data/articles-340089_ARCHIVO_PDF_MATEM_GRADO5_03.pdf', 'page': 26}, page_content='27\\n¿Cuál fue el saldo del día Lunes?\\n¿Hasta el día Miércoles, ¿cuál era el estado del movimiento de la \\ncuenta de esos 3 días?\\nDurante esa semana, ¿cuánto se depositó en total?\\n¿Cuánto se retiró en total?\\n¿Cuál es el saldo de esos 5 días?\\n4.  Un lote tiene las dimensiones y la forma indicada en el dibujo.\\n   ¿Cuál es su área?\\n   ¿Cuántos metros de cerca serán necesarios para cerrarlo?\\n5.  Una costurera dispone de 37.50 m de tela para hacer unos uniformes.\\n Cada uniforme se lleva 2.50 m. ¿Cuántos uniformes podrá confeccionar?\\n6.  Inventa un problema retomando el resultado del anterior y sabiendo que la \\ncosturera hace diariamente 2 uniformes.\\n7.  Inventa un problema en el que tengas que calcular la multiplicación  \\n5350.80 x 15.\\n105.48 m\\n55 m\\nGuía 14 D\\n'),\n",
       " Document(metadata={'source': 'data/articles-340089_ARCHIVO_PDF_MATEM_GRADO5_03.pdf', 'page': 27}, page_content='Matemáticas\\n28\\n8.  Pregunta en tu casa por los recibos de pago de servicios o por otros \\ncomprobantes de pago. Analízalos con alguien de la familia y fíjate cómo \\nutilizan la coma y el punto en la representación de los números. Comenta lo \\nque tú sabes al respecto.\\n A la persona de mayor edad en tu casa pregúntale qué artículos podía \\ncomprar con $1000.00 en 1972 y cuánto hay que pagar hoy por esos \\nmismos artículos. Comenten el por qué de esta situación.\\n9.  Si en tu comunidad hay un Banco Agrario u otra entidad financiera, haz una \\nvisita acompañado por otros niños y por una persona mayor. Solicita en primer \\nlugar la información que a ti te interese. \\n¿Qué es el seguro? \\n¿Qué se asegura? ¿A \\nquién se le paga?\\n¿Qué son los intereses? \\n¿Quién los paga? \\n¿Quién se beneficia \\ncon ellos?\\n'),\n",
       " Document(metadata={'source': 'data/articles-340089_ARCHIVO_PDF_MATEM_GRADO5_03.pdf', 'page': 28}, page_content='Unidad 7 \\nAlgo más sobre razones  \\ny proporciones'),\n",
       " Document(metadata={'source': 'data/articles-340089_ARCHIVO_PDF_MATEM_GRADO5_03.pdf', 'page': 29}, page_content='Matemáticas\\n30\\n'),\n",
       " Document(metadata={'source': 'data/articles-340089_ARCHIVO_PDF_MATEM_GRADO5_03.pdf', 'page': 30}, page_content='31\\n•\\t\\n•\\tInterpreto las fracciones en diferentes contextos: situaciones de medición, relaciones parte todo, \\ncociente, razones y proporciones.\\n•\\tIdentifico y uso medidas relativas en distintos contextos.\\n•\\tUtilizo la notación decimal para expresar fracciones en diferentes contextos y relaciono estas dos \\nnotaciones con la de los porcentajes.\\n•\\tResuelvo y formulo problemas en situaciones de proporcionalidad directa, inversa y producto \\nde medidas.\\n•\\tModelo situaciones de dependencia mediante la proporcionalidad directa e inversa.\\nGUÍA 15. ESTUDIEMOS ESCALAS Y PORCENTAJES\\nEstándares:\\nTrabajar en Escuela Nueva los siguientes \\nCompetencias en Matemáticas\\nMe permite desarrollar mis \\nUnidad 7'),\n",
       " Document(metadata={'source': 'data/articles-340089_ARCHIVO_PDF_MATEM_GRADO5_03.pdf', 'page': 31}, page_content='Matemáticas\\n32\\n Estudiemos algunas relaciones cuando ampliamos dibujos\\nGuía 15 A\\n1.  Haz el dibujo. La cuadrícula es de 1 cm de lado.\\nEstudiemos escalas y porcentajes\\n1 cm\\n2.  Amplía el dibujo. Haz una cuadrícula de cuadritos de 2 cm de lado.\\n3.  Compara algunas longitudes sobre el nuevo dibujo con las correspondientes del \\ndibujo original, como en este ejemplo:\\n Ancho de la puerta:\\n  2 cm 1 cm\\n Nuevo dibujo Lámina original \\n Largo del techo:\\n7 cm       3.5 cm\\nEn las longitudes hay una relación: \\n  2 del dibujo es 1 del original\\n  7 del dibujo es 3.5 del original\\n  La ampliación es de 2 a 1 \\n  La escribimos así: 2 : 1\\nLas longitudes  \\nen la ampliación son el doble de \\nlas longitudes correspondientes \\nen el original. Es una ampliación \\nal doble.\\n'),\n",
       " Document(metadata={'source': 'data/articles-340089_ARCHIVO_PDF_MATEM_GRADO5_03.pdf', 'page': 32}, page_content='33\\nGuía 15 A\\n4.  Haz un plano de tu salón. Estudia el ejemplo.\\n Un salón tiene 6 m de largo y 4 m de ancho.\\n Se acuerda representar sobre el papel con 2 cm la longitud de 1 m  \\nde la realidad.\\n El largo del salón, de 6 m, se representa con 12 cm sobre el papel.\\n   ¿Con cuántos cm se representa el ancho del salón?\\n2 cm del plano representan 1 m de la realidad.\\n2 cm del plano representan 100 cm de la realidad.\\n1 cm del plano representa 50 cm de la realidad.\\nLa razón entre estas dos longitudes se puede escribir más fácilmente:\\n1 : 50\\nEn los planos es necesario escribir la razón entre la longitud en el plano y la longitud \\nreal correspondiente. A esa razón se le llama escala del plano.\\n¡Un plano es \\nuna reducción!\\nLa escala del plano  \\nme permite tener una idea de las \\ndimensiones de la realidad.\\n12 cm\\n8 cm'),\n",
       " Document(metadata={'source': 'data/articles-340089_ARCHIVO_PDF_MATEM_GRADO5_03.pdf', 'page': 33}, page_content='Matemáticas\\n34\\n Describamos algunas situaciones y hallemos relaciones\\nGuía 15 B\\n1.  Estudien el siguiente problema:\\n En un vivero de cítricos hay 500 arbolitos: 200 limoneros y \\n300 naranjos. \\n La relación entre el número de limoneros y el número de \\narbolitos de cítricos es:\\n200 : 500 ó  200\\n500\\n Una forma más sencilla de esta relación se obtiene haciendo más \\nsimple la fracción.\\n    200 ÷ 100 = 2 \\n    500 ÷ 100 = 5\\n Y, ¿cuántos limoneros hay por cada 100 arbolitos de cítricos?\\nHay 2 limoneros por \\ncada 5 arbolitos de \\ncítricos en el vivero.\\n2 x 20   =   40\\n5 x 20    100\\nMuy sencillo,  \\nsolamente hay que escribir \\nuna fracción equivalente a 2\\n5\\n \\ncon denominador 100.'),\n",
       " Document(metadata={'source': 'data/articles-340089_ARCHIVO_PDF_MATEM_GRADO5_03.pdf', 'page': 34}, page_content='35\\n significa que hay 40 limoneros por 100 arbolitos de cítricos.\\n también se escribe 40%\\n40% se lee: 40 por ciento.\\n300 : 500 ó  300\\n500\\n300 ÷ 5  =  60\\n500 ÷ 5    100\\n    60   60 %   100  = \\nGuía 15 B\\nSe dice que el 40% de los \\narbolitos de cítricos son \\nlimoneros.\\n¿Qué porcentaje de arbolitos cítricos son naranjos?\\nHay 300 naranjos de los 500 arbolitos de cítricos. Esta relación \\nse escribe:\\nPara saber qué porcentaje  \\nde arbolitos son naranjos, hay que \\nencontrar una fracción equivalente a \\n300\\n500\\n que tenga denominador 100.\\nEl 60% (se lee: 60 por ciento) de los arbolitos son naranjos.\\n2.  En sus cuadernos hallen los siguientes porcentajes.\\n En el galpón de don Rodrigo nacieron en una semana 120 pollitos, de los cuales \\n48 son hembras.\\n ¿Qué porcentaje de pollitos son hembras y qué porcentaje son machos?'),\n",
       " Document(metadata={'source': 'data/articles-340089_ARCHIVO_PDF_MATEM_GRADO5_03.pdf', 'page': 35}, page_content='Matemáticas\\n36\\n \\nCálculo de porcentaje\\nRicardo es muy buen deportista. Todos los días trota 2 km, antes de ir a la escuela.\\n ¿Cuántos metros ha avanzado cuando lleva el 20% de su recorrido diario?\\n20%  =  20\\n  100 \\nHay que calcular  de 2000 metros.\\nx (2000 metros) = 20 x 2000 m \\n100 \\n= 400 m\\n30%  =  30\\n  100 \\n30\\n100\\nx 20 = 30 x 20 \\n100 \\n= 6\\nEn la escuela “La Manuela” hay 20 alumnos en 5º grado. El 30% son niñas. \\n¿Cuántas niñas hay en 5º grado?\\nEn mi curso somos \\n6 niñas.\\n3.  Calculen:\\n ¿Cuántos gramos son el 25% de una libra de mantequilla?\\n El 10% de un salario mínimo.\\n El 35% de los cc de un litro.\\n El 80% de $5000.\\n4.  Estudia algunos porcentajes especiales.\\n El 50%\\n Entre mi casa y la escuela hay una distancia de un kilómetro. \\n¿En dónde voy cuando he recorrido el 50% del trayecto?'),\n",
       " Document(metadata={'source': 'data/articles-340089_ARCHIVO_PDF_MATEM_GRADO5_03.pdf', 'page': 36}, page_content='37\\n50% =  50\\n  100\\n50% de 1 km  =  50   x  (1 km)  =  50 x 1000 m  =  500 m\\n  100  100\\nVoy a mitad de camino, he \\nrecorrido 500 m. ¡Muy interesante!\\n1 x (1000 m) = 1000 m  = 500 m\\n2  2\\n50%  =  50  =  50 ÷ 50  =  1\\n  100 100 ÷ 50 2\\nEl 50% de algo es lo mismo que la mitad de algo.\\n– El 25%\\n¿Cuántos gramos son el 25% de 1 libra de mantequilla?\\n1 libra 500 gr.\\n¡125 gr es lo mismo que un cuarto \\nde libra. El 25% de algo es lo mismo \\nque 1\\n4\\n de ese algo!\\n25% de 500 gr = 25\\n100\\n x (500 gr) = 25 x 500\\n100  = 125 gr\\n25% = 25\\n100  = 25 ÷ 25\\n100 ÷ 25  = 1\\n4\\n1\\n4 x (500 gr) = 500\\n4  gr = 125 gr \\nGuía 15 B'),\n",
       " Document(metadata={'source': 'data/articles-340089_ARCHIVO_PDF_MATEM_GRADO5_03.pdf', 'page': 37}, page_content='Matemáticas\\n38\\n– El 100%, se lee: el ciento por ciento\\nTengo $3000 y quiero gastar el 100% de mi dinero. ¿Cuánto me queda?\\n100% de $3000 = 100\\n100  x ($3000) = 100 x 3000\\n100  = $3000\\nEl 100% de $3000 es $3000 ¡100% es lo mismo que 1!\\n100%   100\\n100\\n = 1\\n El 100% de $3000  \\nes $3000 ¡100%  \\nes lo mismo que 1!\\n5.  Contesten:\\n En sus cuadernos encuentren el 25%, el 50%, el 75% y el \\n100% de $60000.¿Qué parte del dinero es cada uno de \\nestos porcentajes?\\n Alejandro destina el 30% de su salario para servicios, el 20% \\npara alimentación y el 15% para otros gastos. ¿Qué porcentaje \\ndel salario le queda?\\n Cecilia pagó por un libro $20000, con un descuento del 20%. \\n¿Cuánto dinero se ahorró Cecilia?\\n6.  Comenten sus trabajos en grupo. Si hay dudas discútanlas con su \\nprofesor o profesora.\\n'),\n",
       " Document(metadata={'source': 'data/articles-340089_ARCHIVO_PDF_MATEM_GRADO5_03.pdf', 'page': 38}, page_content='39\\nGuía 15 C\\nGuía 15C\\nCalculemos porcentajes con la información de los periódicos\\nEn los periódicos encontramos expresiones que involucran porcentajes, si saben hacer \\ncálculos tendrán información más completa.\\n1. Estudien el siguiente problema:\\n Noticias de descuentos\\n Algunos almacenes hacen descuentos. Los anuncian \\nexplicando la rebaja en porcentaje.\\nEste almacén vende colchones con un descuento del 30%.\\nUn colchón que vale ordinariamente $80000, ¿cuánto vale efectivamente con \\neste descuento?\\n30% de $80000 = 30\\n100 x $80000 = 30 x 80000\\n100  = $24000\\nEl colchón vale $80000 y el descuento es de $24000.\\nEl nuevo precio  \\nse calcula restando del precio \\noriginal el descuento.\\n$80000 – $24000 = $56000\\nEl colchón hoy vale $56000'),\n",
       " Document(metadata={'source': 'data/articles-340089_ARCHIVO_PDF_MATEM_GRADO5_03.pdf', 'page': 39}, page_content='Matemáticas\\n40\\n2.  El almacén Artesano vende muebles, ofrece un descuento del 18% en sus artículos.\\nUna cama vale ordinariamente $90000 y un escritorio $65000. \\n¿Cuánto cuestan hoy con el descuento?\\nPrecios  \\nde abril\\nArtículos Precios \\nde mayo\\nCarne\\nPapa\\nYuca\\nTomate\\nGuayaba\\nTomate árbol\\nCebolla cabezona\\nLeche\\nArroz\\n1600 libra 6.6\\n500 kilo 42.8\\n600 kilo 20.0\\n600 kilo 37\\n400 kilo 16\\n600 kilo 14\\n600 kilo 1.5 \\n370 kilo 2.0\\n550 kilo 3.5\\n \\n3.  ¿Cómo varían los precios de algunos \\nartículos de un mes a otro?\\nLos datos en las tablas muestran los \\nprecios del mes de abril.\\nAlgunos de los artículos suben \\nde precio, otros bajan y otros \\npermanecen estables.\\nFrente a cada artículo está el \\nporcentaje que sube o baja para el \\nmes de mayo.\\n Completen en sus cuadernos la \\ncolumna correspondiente al mes \\nde mayo.\\n ¿Cuánto costaba la libra de \\ncarne en el mes de abril?\\n $1600 la libra.\\n ¿Cuánto sube en este mes?\\n6,6%\\n6.6\\n100\\n x (1600) = 105.60\\n'),\n",
       " Document(metadata={'source': 'data/articles-340089_ARCHIVO_PDF_MATEM_GRADO5_03.pdf', 'page': 40}, page_content='41\\n ¿Cuánto cuesta la libra de carne en mayo?\\n$1600 + $105.60 = $1705.60\\n4.  En una encuesta de opinión, un periódico publica los \\nresultados mediante la siguiente gráfica:\\nEl número de encuestados fue de 5000 personas.\\n ¿Cuántas contestaron sí?\\n ¿Cuántas contestaron no?\\n ¿Cuántas no contestaron? \\n5.  Averigüen con personas mayores cómo son los préstamos del Banco Agrario y \\nlos intereses que el usuario debe pagar por ellos. También averigüen si cuando \\nse tienen cuentas de ahorros se reciben intereses por el dinero depositado. \\nComparen qué tan altos son los intereses en cada caso.\\n¿Está usted de acuerdo en \\nahorrar energía considerando \\nla sequía que vive el país?\\n21%\\n4%\\n75%\\nSí\\nNo\\nNo contestan\\nGuía 15 C\\nEste ejemplo los orienta en su trabajo de completar las tablas. \\nLa carne subió. Costaba \\n$1600 la libra y ahora cuesta \\n$1705,60'),\n",
       " Document(metadata={'source': 'data/articles-340089_ARCHIVO_PDF_MATEM_GRADO5_03.pdf', 'page': 41}, page_content='Matemáticas\\n42\\n Apliquemos la idea de escalas y porcentajes\\nGuía 15 D\\n1. El dibujo muestra el plano que han hecho Carlos y Patricia de \\nsu salón de clases.\\n2 cm\\n4 cm\\n4 cm\\n2 cm1 cm\\n1.5 cm 1.5 cm\\n1 cm3 cm\\n3 cm\\n3 cm\\nPuerta\\nVentana Ventana\\nPuerta\\nBiblioteca CRA\\nLas ventanas, en la realidad miden 1.80 m de ancho cada una y en el plano estas \\nlongitudes están representadas por 3 cm cada una.\\nCarlos y Patricia no escribieron la escala del plano. Calcula esta escala y con ese \\ndato halla las siguientes medidas de la realidad:\\n  Ancho del salón.\\n  Largo del salón.\\n  Ancho y largo del espacio del CRA.\\n  Largo del tablero.\\n  Ancho de las puertas.\\n  Área del salón, incluida el área ocupada por la biblioteca y por el espacio  \\nde los CRA.\\n  Porcentaje del área del salón ocupada por la biblioteca y por los espacios  \\nde los CRA.\\n2.  Un mapa está dibujado a una escala 1 : 1200000. Dos ciudades están a una \\ndistancia de 3.5 cm sobre el mapa. ¿Cuál es la distancia real entre ellas?\\n'),\n",
       " Document(metadata={'source': 'data/articles-340089_ARCHIVO_PDF_MATEM_GRADO5_03.pdf', 'page': 42}, page_content='43\\nGuía 15 D\\n3.  En las ventas de mitad de año algunos almacenes hacen descuentos en \\nsus mercancías.\\n Una señora compra un artículo que ordinariamente cuesta $12000 y hoy \\ntiene el 30% de descuento, otro que cuesta $8000 con un descuento del \\n20%. ¿Cuánto paga en total por estos dos artículos?\\n4.  Los niños de la escuela San Vicente hicieron una encuesta sobre los \\ndeportes favoritos en la comunidad. Los resultados los representaron \\nasí, pero olvidaron algunos datos.\\n Los encuestados fueron 120 personas, de las cuales a 48 les gusta el ciclismo y \\na 12 les gustan otros deportes. Completar los datos que faltan en la gráfica.\\n5. Comparen sus procedimientos y respuestas.\\n15%\\n10%\\n40%\\nCiclismo\\nFutbol\\nNatación\\nTejo\\nOtros deportes'),\n",
       " Document(metadata={'source': 'data/articles-340089_ARCHIVO_PDF_MATEM_GRADO5_03.pdf', 'page': 43}, page_content='Matemáticas\\n44\\n6.  Sobre este mapa, haz los ejercicios propuestos y otros que \\nsean de tu interés y del de tus mayores.\\n Tú has aprendido a interpretar la escala del mapa. En este caso la escala es de \\n1 : 2500000.\\nSi mides 1 cm de longitud sobre el mapa, ¿a qué distancia en cm \\ncorresponde en la realidad?\\n Las distancias entre localidades, la longitud de las carreteras, las de los ríos etc., \\nse mide en kilómetros.\\n¿A cuántos kilómetros equivalen 2500000 cm?\\n¿Cuántos kilómetros de la realidad representa 1 cm sobre el mapa?\\nEstima (sin hacer mediciones) qué ciudades pueden estar más o menos a  \\n25 km una de otra.\\n Si mides, sobre el mapa, en línea recta la distancia entre Villavicencio y Puerto \\nLópez, es de más o menos 3 cm.\\n¿Cuál dirías que es la distancia aproximada entre estas dos ciudades?\\nLa longitud de la carretera es de 87 km. ¿Cómo explicas la diferencia entre \\ntu aproximación y la longitud de la carretera?\\nUribe\\nPuerto Lleras\\nGranada\\nGuamal\\nPuerto López\\nRestrepo\\nAcacias\\nVillavicencio\\nCuramal\\nSan Martín\\nPuerto Gaitán\\nSan Carlos \\nde Guaroa\\nSan Juan \\nde Arama\\nCarreteras Pavimentadas\\nCarreteras Secundarias\\nEscala 1 : 2500000\\nDepartamento del Meta'),\n",
       " Document(metadata={'source': 'data/articles-340089_ARCHIVO_PDF_MATEM_GRADO5_03.pdf', 'page': 44}, page_content='Unidad 8 \\nNuevamente sobre \\nvariacional'),\n",
       " Document(metadata={'source': 'data/articles-340089_ARCHIVO_PDF_MATEM_GRADO5_03.pdf', 'page': 45}, page_content='Matemáticas\\n46\\n'),\n",
       " Document(metadata={'source': 'data/articles-340089_ARCHIVO_PDF_MATEM_GRADO5_03.pdf', 'page': 46}, page_content='47\\n•\\t\\n•\\tResuelvo y formulo problemas en situaciones de proporcionalidad directa, inversa y producto \\nde medidas.\\n•\\tModelo situaciones de dependencia mediante la proporcionalidad directa e inversa.\\n•\\tAnalizo y explico relaciones de dependencia entre cantidades que varían en el tiempo con cierta \\nregularidad en situaciones económicas, sociales y de las ciencias naturales.\\nGUÍA 16. IDENTIFIQUEMOS MAGNITUDES \\nQUE VARÍAN EN FORMA PROPORCIONAL\\nEstándares:\\nTrabajar en Escuela Nueva los siguientes \\nCompetencias en Matemáticas\\nMe permite desarrollar mis \\nUnidad 8'),\n",
       " Document(metadata={'source': 'data/articles-340089_ARCHIVO_PDF_MATEM_GRADO5_03.pdf', 'page': 47}, page_content='Matemáticas\\n48\\n Experimentemos e identifiquemos formas de variación\\nGuía 16 A Identifiquemos magnitudes  \\nque varían en forma proporcional\\nEn las Guías 16 y 17 de la cartilla de cuarto aprendimos que en muchos hechos \\npodemos identificar dos magnitudes y estudiar la forma como los valores de una \\nde las magnitudes varía cuando cambian los valores de la otra. Para estudiar estas \\nformas de variación hicimos tablas y gráficas cartesianas.\\nMariana y Alejo están interesados en la forma como crecen las sombras de las \\ncosas cuando se proyectan en una pared.\\nPidieron ayuda a un adulto y en un cuarto oscuro hicieron un montaje como el de \\nla figura siguiente:\\nUna linterna que dé \\nbuena luz.\\nEn un cartón una pequeña \\nabertura rectangular  \\n(1 cm x 1.5 cm).\\nSobre la pared va \\nuna cartulina blanca. '),\n",
       " Document(metadata={'source': 'data/articles-340089_ARCHIVO_PDF_MATEM_GRADO5_03.pdf', 'page': 48}, page_content='49\\nGuía 16 A\\n1.  Construyan un aparato como el de Mariana y Alejo, sigan las \\nindicaciones y contesten las preguntas.\\n Mantengan constante la distancia entre la linterna y la pared.\\n \\n Acerquen y alejen el cartón que tiene la pequeña abertura \\nrectangular a la linterna y observen qué sucede con las \\ndimensiones del rectángulo en la pared. ¿Cuándo la \\ndistancia D entre el cartón y la linterna disminuye, aumentan \\no disminuyen las dimensiones del rectángulo? Y ¿qué pasa \\ncuando aumenta?\\n \\n Ahora mantengan constante la distancia entre el cartón \\ny la pared (es decir, mantengan constante a d) y alejen \\no acerquen la linterna. Observen qué sucede con las \\ndimensiones del rectángulo en la pared. Digan qué pasa con \\nel rectángulo a medida que la distancia entre la linterna y la \\npared (D + d ) se hace mayor y qué cuando se hace menor.\\n'),\n",
       " Document(metadata={'source': 'data/articles-340089_ARCHIVO_PDF_MATEM_GRADO5_03.pdf', 'page': 49}, page_content='Matemáticas\\n50\\n2.  Consigan varios metros de piola y en un lugar plano sobre tierra o arena claven \\nestacas cada 30 cm, así como muestra la figura. Si no disponen de un lugar así \\nsimplemente hagan la figura sobre el piso. \\n Coloquen una vara desde la estaca 1 a la 11. Busquen que la piola quede \\nestirada. Coloquen varas sobre el piso que unan la estaca que está sobre la línea \\nimaginaria que va de A a B, y la que está enfrente sobre la otra línea que va de \\nA a C (la estaca 5 con 7, la 4 con 8, 3 con 9, 2 con 10 y 1 con 11).\\n130 cm\\nC\\nB\\nA\\n1\\n2\\n3\\n4\\n5\\n6\\n7\\n8\\n9\\n10\\n11\\n30 cm\\n30 cm'),\n",
       " Document(metadata={'source': 'data/articles-340089_ARCHIVO_PDF_MATEM_GRADO5_03.pdf', 'page': 50}, page_content='51\\nGuía 16 A\\n3.  Tomen medidas y completen la tabla.\\nVariación de la longitud de la vara en relación con la distancia de la estaca a la estaca A\\nDistancia a la estaca A  \\n(en cm)\\nA y 5 A y 4 A y 3 A y 2 A y 1\\n30\\nLongitud de la vara (en cm)\\n5 y 7 4 y 8 3 y 9 2 y 10 1 y 11\\n130\\n4.  Con los datos de la tabla elaboren una gráfica cartesiana que relacione los \\nvalores que toman estas dos magnitudes.\\nAunque los puntos no están \\nexactamente sobre una misma recta, \\n¿Se encuentran muy próximos a una \\nmisma recta?\\n5. Utilicen la gráfica para contestar las preguntas siguientes:\\n ¿Cuánto mide la vara si une dos estacas que están a 15 cm de la estaca A?\\n ¿A qué distancia están las estacas de A si la vara que las une mide 68 cm?\\n20 40 60 80 100 120 140 160\\nLongitudes de la vara (en cm) \\nDistancia de una estaca a la estaca A (en cm)\\n160\\n140\\n120\\n100\\n80\\n60\\n40\\n20'),\n",
       " Document(metadata={'source': 'data/articles-340089_ARCHIVO_PDF_MATEM_GRADO5_03.pdf', 'page': 51}, page_content='Matemáticas\\n52\\n Comparen variaciones proporcionales y no proporcionales\\nGuía 16 B\\n1.  Observen que al unir con las varas los pares de \\nestacas se forman triángulos (el de vértices 5, A, 7; \\nel de vértices 4, B, 8, etc.).\\n2.  Tracen las alturas de estos triángulos y midan sus longitudes, con esta información \\ncalculen sus áreas, completen la tabla. Usen la calculadora.\\n Sugerencia: para trazar las alturas claven una estaca “D” en el punto medio entre \\nB y C y unan con una piola las estacas A y D.\\nVariaciones de la altura y el área de los triángulos  \\nen relación con la distancia de la estaca a A\\nDistancia a la estaca a A \\n(en cm)\\nA y 5 A y 4 A y 3 A y 2 A y 1\\n30\\nLongitud de la altura (en cm)\\nValor del área\\n1\\n2\\n3\\n45\\n6\\n30 cm\\n30 cm 0,65 m\\n0,65 m\\n7\\n8\\n9\\n10\\n11\\nD\\nB\\nA\\nC'),\n",
       " Document(metadata={'source': 'data/articles-340089_ARCHIVO_PDF_MATEM_GRADO5_03.pdf', 'page': 52}, page_content='53\\n3.  Elaboren las dos gráficas cartesianas correspondientes a las magnitudes de la \\ntabla anterior (una, longitud de la altura del triángulo y distancia de la estaca a la \\nestaca A y la otra, el valor del área del triángulo y la distancia de la estaca a la \\nestaca A).\\n Pídanle a su profesor o profesora que les ayude a definir la escala más \\nconveniente en los dos ejes.\\n Comparen las dos gráficas. ¿Tienen la misma forma?\\n ¿Algunas de estas graficas se parece a la gráfica que elaboraron en la \\nactividad 4 de la guía 16A? Si es así, digan cuál y procuren explicar cuál \\nes la razón para que se parezcan. \\nVariación proporcional directa\\nLas gráficas que muestran la variación de la longitud de la vara y la \\ndistancia de la estaca a la estaca A (actividad 4 de la guía anterior) y la \\ngráfica que muestra la variación de la altura y la distancia de la estaca a \\nla estaca A (de la actividad 3 de esta guía) tienen la misma forma.\\nEs una línea recta que pasa \\npor el punto (0,0).\\nCuando sucede esto \\ndecimos que las dos \\nmagnitudes varían de forma \\nproporcional directa.\\n1 2 3 4 5 6 7 80\\n0\\n7\\n6\\n5\\n4\\n3\\n2\\n1\\ny\\nX\\nGuía 16 B'),\n",
       " Document(metadata={'source': 'data/articles-340089_ARCHIVO_PDF_MATEM_GRADO5_03.pdf', 'page': 53}, page_content='Matemáticas\\n54\\n4.  Hay muchos hechos en los que es posible encontrar dos \\nmagnitudes que varían de forma proporcional directa. Estudia la \\nvariación de las siguientes magnitudes, haz la gráfica y decide si \\nlas magnitudes son directamente proporcionales. \\n Sugerencia: ponle el valor de las magnitudes según la situación.\\nHecho: se compran 1, 2, 3, etc., unidades de un mismo artículo.\\nMagnitudes: número de artículos comprados. \\nValor pagado.\\n¿El valor pagado es directamente proporcional al número de artículos \\ncomprados?\\nHecho: se pesa 1, 2, 3, etc., unidades de un mismo tipo de bocadillo \\nque produce una fábrica.\\nMagnitudes: número de bocadillos pesados. \\nMedida del peso total.\\n¿El valor del peso total es directamente proporcional al número de \\nbocadillos pesados?\\nHecho: se reparten 100 naranjas por partes iguales entre 1, 2, 3, \\netc., personas.\\nMagnitudes: número de personas entre las que se hace la repartición. \\nEl número de naranjas que corresponde a cada persona \\nen cada caso.\\n¿El valor del número de naranjas que corresponde a cada persona \\nes directamente proporcional al número de personas entre las que se \\nhace la repartición?'),\n",
       " Document(metadata={'source': 'data/articles-340089_ARCHIVO_PDF_MATEM_GRADO5_03.pdf', 'page': 54}, page_content='55\\nLas fracciones 1200\\n100\\n, 2400\\n200\\n,3600\\n300\\n, etc., son equivalentes.\\nLas demás fracciones son equivalentes a 12\\n1\\nEste hecho es una característica de magnitudes directamente proporcionales.\\nGuía 16 B\\nLa razón entre magnitudes directamente proporcionales\\nCuando se tienen dos magnitudes directamente proporcionales la razón entre \\nlos valores correspondientes de las magnitudes permanece constante.\\nEjemplo: el valor pagado es directamente proporcional a la cantidad de \\nmantequilla comprada. Veamos la tabla de datos de un caso particular en el \\nque la libra de mantequilla cuesta $6000.\\nMantequilla \\ncomprada (g)\\n100 200 300 400 500\\nValor pagado ($) 1200 2400 3600 4800 6000\\nRazón entre \\nvalor pagado \\ny mantequilla \\ncomprada (escrita \\ncomo razón)\\n1200: 100 2400: 200 3600: 300 4800: 400 6000: 500\\nRazón entre \\nvalor pagado \\ny mantequilla \\ncomprada (escrita \\ncomo fracción)\\n1200\\n100\\n2400\\n200\\n3600\\n300\\n4800\\n400\\n6000\\n500\\n6000\\n500\\n60\\n5\\n12\\n1= = ;\\n÷ 100 ÷ 5\\n÷ 5÷ 100\\n4800\\n400\\n48\\n4\\n12\\n1= =\\n÷ 100 ÷ 4\\n÷ 4÷ 100'),\n",
       " Document(metadata={'source': 'data/articles-340089_ARCHIVO_PDF_MATEM_GRADO5_03.pdf', 'page': 55}, page_content='Matemáticas\\n56\\n5.  Haz la gráfica cartesiana correspondiente a la variación entre el valor \\npagado y la cantidad de mantequilla y comprueba que es una línea recta \\nque pasa por el punto (0,0).\\n6.  Encuentra las razones entre las magnitudes de los tres hechos de la actividad \\n4 de esta guía. Averigua en cuál o cuáles de estos hechos las razones entre \\nlos valores de las magnitudes permanecen constantes y en cuáles no.\\n Estudia las gráficas de estas variaciones, ¿en los hechos en los cuáles \\nlas gráficas cartesianas son líneas rectas que pasan por el punto (0,0) se \\ncumple que las razones entre valores correspondientes de las magnitudes \\npermanecen constantes?\\n En el hecho en el que la gráfica cartesiana no es una línea recta, ¿la razón \\nentre las magnitudes varía o permanece constante? \\n7.  Toma la tabla de la actividad 3 de la Guía 16A en la que estudiaste la \\nvariación de la longitud de la vara en relación con la distancia de la estaca \\na la estaca A, escribe las razones entre estas dos magnitudes y analiza si \\nesta razón es más o menos constante. \\n'),\n",
       " Document(metadata={'source': 'data/articles-340089_ARCHIVO_PDF_MATEM_GRADO5_03.pdf', 'page': 56}, page_content='57\\nAdvertencia: estas razones no van a resultar exactamente \\nequivalentes debido a los errores que se cometen al medir. \\nSugerencia: para saber si las razones son iguales divide, en cada \\ncaso, el numerador entre el denominador. Usa la calculadora. \\nComprueba que los valores que obtienes son casi iguales. \\n8.  Haz lo mismo con las magnitudes estudiadas en la actividad 2 de esta guía. \\n ¿Las razones entre la longitud de la altura y la distancia entre la estaca a la \\nestaca A, son aproximadamente equivalentes?\\n Sugerencia: recuerda que puedes usar la calculadora y dividir el numerador entre \\nel denominador. \\n ¿Las razones entre el valor del área del triángulo y la distancia de la estaca a la \\nestaca A, son aproximadamente equivalentes?\\n9.  Ahora observen las gráficas que elaboraron en la actividad 3, ¿cuál les dio \\naproximadamente una recta que pasa por el punto (0,0)?\\n10. De acuerdo con los resultados de las dos actividades anteriores, di si la variación \\ndel área del triángulo es directamente proporcional con la distancia de la estaca \\na la estaca A.\\nGuía 16 B'),\n",
       " Document(metadata={'source': 'data/articles-340089_ARCHIVO_PDF_MATEM_GRADO5_03.pdf', 'page': 57}, page_content='Matemáticas\\n58\\n Usemos la equivalencia de razones en magnitudes \\ndirectamente proporcionales\\nGuía 16 C\\n \\nMétodo de igualación de razones para resolver problemas \\ndirectamente proporcionales\\nEl hecho de que la razón entre valores correspondientes de dos \\nmagnitudes directamente proporcionales permanezca constante, es muy \\nútil para resolver problemas.\\nEjemplo: cada 25 segundos la rueda de un molino da 3 vueltas. \\n¿Cuántas vueltas da en 20 min y 11 s?\\nPrimer paso: nos aseguramos que las magnitudes involucradas en el \\nproblema son directamente proporcionales.\\nMagnitudes: número de vueltas de la rueda.\\nTiempo que dura la rueda dando vueltas.\\nPrimera constatación:\\nParece razonable pensar que estas dos magnitudes están en relación \\ndirecta. Es decir, si una aumenta la otra también, ya que si la rueda \\nda más vueltas el tiempo es mayor.\\nSegunda constatación:\\n También parece razonable pensar que el tiempo que dura la rueda \\ngirando es directamente proporcional al número de vueltas. Ya que\\nsi 25 s : 3 vueltas, también se cumple \\n 50 s : 6 vueltas, 75 s: 9 vueltas, etc.'),\n",
       " Document(metadata={'source': 'data/articles-340089_ARCHIVO_PDF_MATEM_GRADO5_03.pdf', 'page': 58}, page_content='59\\nGuía 16 C\\n \\n Segundo paso:\\n Como ya sabemos que las dos magnitudes son directamente \\nproporcionales, podemos aprovechar el hecho de que las razones \\nentre sus valores correspondientes son equivalentes.\\n 25 s =  1271 s\\n3 vueltas ? \\n 25 s =  1271 s\\n3 vueltas ? \\n 25 s =  1271 s\\n3 vueltas ? \\n21 min y 11 s \\nigual a 1271 s\\nEste dato es el que \\ndesconocemos.\\n¿Por cuál número hay \\nque multiplicar 25 para \\nobtener 1271?\\n?\\n51 x\\n51 x\\n1271 ÷ 25 ≈ 51\\nEl dato desconocido \\nes 153 v\\n3 v x 51 = 153 v\\nR: La rueda del molino de 153 vueltas en 21 min y 11 s (1271 s)'),\n",
       " Document(metadata={'source': 'data/articles-340089_ARCHIVO_PDF_MATEM_GRADO5_03.pdf', 'page': 59}, page_content='Matemáticas\\n60\\n1. Si es posible aplica el método de igualación de razones para \\nresolver los problemas siguientes.\\n Sugerencia: recuerda que primero debes asegurarte que las \\nmagnitudes involucradas en el problema son directamente \\nproporcionales.\\n En una urna se empacan canicas de dos colores: rojas y \\nverdes. Por cada 3 canicas rojas se echan 7 verdes.\\n ¿Cuántas canicas rojas se empacaron en la urna si se sabe \\nque hay 574 verdes?\\n ¿Si en la urna hay 120 canicas en total, cuántas canicas hay \\nde cada color?\\n Un carro se desplaza 100 Km cada tres horas.\\n ¿Cuántos Kilómetros avanzará en 25,5 horas?\\n Advertencia: 25,5 horas no son 25 horas y 50 minutos; ya \\nque 25.5 horas son 25 horas y 5\\n10 de hora, o sea, 25 horas \\ny media ( 5\\n10 = 1\\n2 ).\\n2.  Juana tiene 1000 dulces, que desea empacar colocando la misma cantidad en \\ncada caja, hace la siguiente tabla para tener información rápida de la cantidad \\nde dulces que empaca en cada caja.\\nNúmero de cajas 1 2 3 4 5 6\\nDulces por caja 1000 500 333.3 250 200 166.6\\nElabora una gráfica cartesiana.\\nEstas dos magnitudes son directamente proporcionales.\\n¿La razón entre valores de las magnitudes es constante?'),\n",
       " Document(metadata={'source': 'data/articles-340089_ARCHIVO_PDF_MATEM_GRADO5_03.pdf', 'page': 60}, page_content='61\\nGuía 16 D\\nGuía 16D\\nApliquemos la idea de proporcionalidad en situaciones comunes\\n1.  Resuelve las preguntas:\\n La mamá de Hermes fue registrando en una tabla la \\nestatura alcanzada por el niño en cada uno de sus 6 \\nprimeros cumpleaños.\\nEdad (años) 1 2 3 4 5 6\\nEstatura (cm) 74 85 94 101 108 114\\n Haz una gráfica y di qué relación encuentras entre la edad \\nde Hermes y su estatura.\\n2.  Doña Estela se comprometió a hacer 60 carpetas. Si tiene que entregarlas  \\nen 3 días, debe hacer 20 diarias.\\n Completa la tabla.\\nNúmero de días 3 4 ?\\nNúmero de carpetas \\ndiarias \\n20 ? 10\\nHaz una gráfica, di si las dos magnitudes de esta situación varían en \\nforma proporcional directa.\\nSi demoro 4 días… ¿Cuántas carpetas \\ndiarias?… Si hago 10 carpetas \\ndiarias, ¿cuántos días necesito?'),\n",
       " Document(metadata={'source': 'data/articles-340089_ARCHIVO_PDF_MATEM_GRADO5_03.pdf', 'page': 61}, page_content='Matemáticas\\n62\\n Las recetas de cocina, en general, vienen escritas para un número determinado \\nde personas y traen dos partes: una lista de ingredientes con su respectiva \\ncantidad y la forma de preparación.\\n Cuando se va a preparar dicha receta para un número de personas, que no \\nes el que la receta trae, es necesario modificar la cantidad de los ingredientes.\\nPero los ingredientes deben \\nmodificarse de tal manera que el \\nplato que resulte tenga el mismo sabor \\nque el que se obtendría con la receta \\noriginal.\\n Aquí tienes una receta para 6 personas. Escoge una y haz la modificación que \\nsea necesaria según el número de personas que haya en tu casa.\\n3.  Si en la casa de Omar se va a preparar la crema de zanahoria para  \\n12 personas, ¿cuál es la cantidad de los ingredientes, para que la crema  \\nsea de la misma calidad?\\n4.  En la casa de Rebeca utilizaron 1 1\\n2  libras de zanahoria, ¿para cuántas personas \\nva a ser preparada la crema? ¿Cuántas tazas de agua echaron en ella?\\nCrema de zanahoria\\nIngredientes\\n  Zanahoria 1 libra\\n  Leche 1 taza\\n  Agua 7 tazas\\n  Cubos de caldo 2\\n  Mantequilla 1 cucharada\\n  Vino (opcional) 1 copa\\n  Sal al gusto\\n  Huevos 2\\nPreparación:\\nCocine la zanahoria con sal, licúela en la \\nleche, agréguele el agua y los cubos de \\ncaldo, la mantequilla y el vino. Cocínela y \\nsírvala con rodajas de huevo duro.'),\n",
       " Document(metadata={'source': 'data/articles-340089_ARCHIVO_PDF_MATEM_GRADO5_03.pdf', 'page': 62}, page_content='Unidad 9 \\nAlgo más sobre \\norganización de datos  \\ny arreglos'),\n",
       " Document(metadata={'source': 'data/articles-340089_ARCHIVO_PDF_MATEM_GRADO5_03.pdf', 'page': 63}, page_content='Matemáticas\\n64\\n•\\t\\n•\\tIdentifico y uso medidas relativas en distintos contextos.\\n•\\tModelo situaciones de dependencia mediante la proporcionalidad directa e inversa.\\n•\\tRepresento datos usando tablas y gráficas (pictogramas, gráficas de barras, diagramas de líneas, \\ndiagramas circulares).\\n•\\tUso e interpreto la media (o promedio) y la mediana y comparo lo que indican.\\n•\\tResuelvo y formulo problemas a partir de un conjunto de datos provenientes de observaciones, \\nconsultas o experimentos.\\nGUÍA 17. COMPAREMOS RESULTADOS DE ENCUESTAS\\nEstándares:\\nTrabajar en Escuela Nueva los siguientes \\n'),\n",
       " Document(metadata={'source': 'data/articles-340089_ARCHIVO_PDF_MATEM_GRADO5_03.pdf', 'page': 64}, page_content='65\\n•\\t\\n•\\tInterpreto información presentada en tablas y gráficas (pictogramas, gráficas de barras, diagramas \\nde líneas, diagramas circulares).\\n•\\tConjeturo y pongo a prueba predicciones acerca de la posibilidad de ocurrencia de eventos.\\nGUÍA 18. APRENDAMOS ALGO MÁS DE ARREGLOS\\nCompetencias \\nen Matemáticas\\nMe permite desarrollar mis \\nUnidad 9'),\n",
       " Document(metadata={'source': 'data/articles-340089_ARCHIVO_PDF_MATEM_GRADO5_03.pdf', 'page': 65}, page_content='Matemáticas\\n66\\n Hagamos encuestas\\nGuía 17 A Comparemos resultados de encuestas\\n… Alejo, encuestemos a los estudiantes de la \\nescuela para averiguar qué tan\\ncontentos están con el funcionamiento del \\ngobierno escolar\\n¡Claro! ¿Cómo \\nhacemos?\\n1.  Estudien la investigación que realizaron los niños de la escuela \\n“El Platanal”, para conocer lo que los alumnos de la escuela \\nopinaban sobre el funcionamiento del gobierno escolar y \\ncontesten las preguntas que se hacen.\\n Ellos hicieron una encuesta en la que aparecía califica “según \\ntu parecer” el funcionamiento del gobierno escolar. Marque X\\n Deficiente   Regular  Bueno  Excelente \\nPara rendir el informe elaboraron una tabla como:\\nEscuela “El Platanal” Calificación sobre  \\nel funcionamiento del gobierno escolar\\nCalificación  Frecuencia absoluta  \\nDeficiente  22\\nRegular 35\\nBueno 62\\nExcelente 40\\nSignifica que 22 de los niños \\nencuestados calificaron como deficiente el \\nfuncionamiento del gobierno escolar.\\nSe acostumbra a llamar frecuencia absoluta \\nel número de veces que se repite un dato (un \\nobjeto, una medida, un hecho, etc.).'),\n",
       " Document(metadata={'source': 'data/articles-340089_ARCHIVO_PDF_MATEM_GRADO5_03.pdf', 'page': 66}, page_content='67\\nGuía 17 A\\nCon base en la tabla elaboraron un gráfico de barras.\\n¿Cuál de las calificaciones tiene mayor frecuencia?\\n¿Cuál de las calificaciones tiene menor frecuencia?\\n¿Cuál es el número total de encuestados?\\n¿Cuántos niños o niñas dieron una calificación de excelente o bueno?\\n¿De acuerdo con la información dada, consideras que los estudiantes de \\nla escuela “El Platanal” tienen una opinión favorable sobre el desempeño \\ndel gobierno escolar?\\n70\\n60\\n50\\n40\\n30\\n20\\n10\\nD R B E\\nEscuela “El Platanal”\\nCalificación sobre el funcionamiento del \\ngobierno escolar\\nFrecuencia (número de alumnos)\\nCalificación'),\n",
       " Document(metadata={'source': 'data/articles-340089_ARCHIVO_PDF_MATEM_GRADO5_03.pdf', 'page': 67}, page_content='Matemáticas\\n68\\n2.  En la escuela “El Libertador” los niños hicieron la misma encuesta. La gráfica \\nsiguiente muestra los resultados obtenidos.\\n30\\n25\\n20\\n15\\n10\\n5\\nD R B E\\nEscuela “El libertador”\\nCalificación sobre el funcionamiento del \\ngobierno escolar\\nFrecuencia (número de alumnos)\\nCalificación\\n ¿Cuál de las calificaciones tiene mayor frecuencia? y ¿cuál menos?\\n Haz una tabla de frecuencias absolutas.\\n ¿Cuál es el número total de niños o niñas encuestadas?\\n Compara la información de las dos escuelas, en cuál consideras que \\nlos alumnos tiene una opinión más favorable sobre el funcionamiento \\ndel gobierno escolar. Justifica tal respuesta. \\n Sugerencia: haz una nuevo gráfico en el que presentes la información \\nde las dos escuelas. Para cada calificación haz dos barras, una para \\ncada escuela. Si deseas usa dos colores, uno para la escuela El \\nPlatanal y el otro para la escuela El Libertador.\\n'),\n",
       " Document(metadata={'source': 'data/articles-340089_ARCHIVO_PDF_MATEM_GRADO5_03.pdf', 'page': 68}, page_content='69\\n1.  En la escuela “El Platanal” 40 niños dieron una calificación \\nde “E” y en la “El Libertador” lo hicieron 19. ¿Se podría decir \\nque al comparar la cantidad de niños que calificaron “E”, una \\nescuela está mejor que otra? Discutan sus respuestas y escriban \\nsus conclusiones.\\nGuía 17B\\nUtilicemos porcentajes para hacer comparaciones\\nEl porcentaje es una escala común para hacer comparación\\nEn la escuela “El Platanal” 40 de 159 calificaron “E”\\nEn la escuela “El Libertador” 19 de 76 calificaron “E”\\nEs claro que en la escuela “El Platanal” hubo más niños que calificaron \\n“E” que en la escuela “El Libertador” (40 > 19), pero, en el primer caso \\nson 40 de 159 y, en el segundo, 19 de 76. Este es el mismo problema \\nde las mezclas de la Guía 1 de la cartilla 1 de este grado. Para hacer \\nla comparación es necesario manejar una escala común. \\nEsta escala puede ser la de 1 a 100.\\nGuía 17 B'),\n",
       " Document(metadata={'source': 'data/articles-340089_ARCHIVO_PDF_MATEM_GRADO5_03.pdf', 'page': 69}, page_content='Matemáticas\\n70\\nForma de transformar a la escala común de 1 a 100\\nEscuela “El Platanal”    Escuela “El Libertador”\\n 40 =  ?\\n 159 100 \\n0.629 x\\n0.629 x\\n 40 =  25.2\\n 159 100 \\n 19 =  25.0\\n 76 100 \\n 19 =  ?\\n 76 100 \\n?\\n?\\n1.316 x\\n1.316 x\\n 19 =  ?\\n 76 100 \\n159 x  = 100 76 x  = 100\\n 40 =  ?\\n 159 100 \\n?\\n?\\n160\\n140\\n120\\n100\\n80\\n60\\n40\\n20\\n = 100 ÷ 159\\n = 100  ≈ 0.629\\n  159\\n = 100 ÷ 76\\n = 100  ≈ 1.316\\n  76\\n25.2 %\\n25.0 %\\n40 niños de 159 que califican E \\nes equivalente a decir que 25.2 \\nde 100 califican E\\n25.2 de 100 se escribe 25.2%\\n“25.2 por ciento”\\n19 niños de 76 que califican \\nE es equivalentes a decir que \\n25.0 de 100 calificar E.\\n25.0 de 100 se escribe 25.0% \\n“25.0 por ciento”\\nR. 40 de 159 y 19 de 76 son casi iguales.'),\n",
       " Document(metadata={'source': 'data/articles-340089_ARCHIVO_PDF_MATEM_GRADO5_03.pdf', 'page': 70}, page_content='71\\nFrecuencia relativa \\nCuando se calcula el porcentaje que representa cada frecuencia \\nabsoluta, decimos que estamos calculando la frecuencia relativa.\\n2.  Sigan el procedimiento de la página anterior y calculen las frecuencias \\nrelativas, completen las tablas. Utilicen la calculadora.\\n Sugerencia: aproximen los resultados de los porcentajes a las décimas. \\nRecuerden que para ello redondean las centésimas a décimas al calcular \\nel porcentaje que representan 40 niños que califiquen E en la escuela “El \\nPlatanal” en la calculadora se obtiene 25.6.\\nComparación de las calificaciones sobre el funcionamiento del gobierno \\nescolar en las dos escuelas\\nCalificación Escuela “El Platanal” Escuela “El Libertador”\\nFrecuencia \\nabsoluta\\nFrecuencia \\nrelativa (%)\\nFrecuencia \\nabsoluta\\nFrecuencia \\nrelativa (%)\\nDeficiente 22 13.8 25 32.9\\nRegular 35 22\\nBueno 62 10\\nExcelente 40 19\\nTotal 159 76\\n25.16 esta a 4/100 de 25.2 y a 6/100 de 25.1\\n25.0 25.2\\n25.1 25.3 25.5 25.7 25.9\\n25.4 25.6 25.8 26.0\\n25.16\\nGuía 17 B'),\n",
       " Document(metadata={'source': 'data/articles-340089_ARCHIVO_PDF_MATEM_GRADO5_03.pdf', 'page': 71}, page_content='Matemáticas\\n72\\n3.  La tabla muestra los cálculos de las frecuencias relativas, comparen los resultados \\nque obtuvieron en la actividad 2 de la página anterior.\\n \\nComparación de las calificaciones sobre el funcionamiento  \\ndel gobierno escolar en las dos escuelas\\nCalificación Escuela “El Platanal” Escuela “El Libertador”\\nFrecuencia \\nabsoluta\\nFrecuencia \\nrelativa (%)\\nFrecuencia \\nabsoluta\\nFrecuencia \\nrelativa (%)\\nDeficiente 22 13.8 25 32.9\\nRegular 35 22.0 22 28.9\\nBueno 62 38.9 10 13.2\\nExcelente 40 25.2 19 25.0\\nTotal 159 100.0 76 100.0\\n Con base en las frecuencias relativas de la tabla podemos elaborar un \\nhistograma de las frecuencias relativas.\\n100\\n90\\n80\\n70\\n60\\n50\\n40\\n30\\n20\\n10\\nD R B E\\nHistograma de las frecuencias relativas\\nCalificaciones de las dos escuelas\\n% Frecuencias relativas\\nCalificación\\nEscuela “El Platanal”\\nEscuela “El Libertador”'),\n",
       " Document(metadata={'source': 'data/articles-340089_ARCHIVO_PDF_MATEM_GRADO5_03.pdf', 'page': 72}, page_content='73\\n35%\\n30%\\n25%\\n20%\\n15%\\n10%\\n5%\\n0%\\naves perros gatos peces\\nPreferencias de los niños  \\nsobre mascotas\\nPorcentaje (%)\\nMascotas\\nGuía 17 B\\n4.  Supongan que van a la Escuela “El Platanal” y le piden a varios niños que \\ncalifiquen el funcionamiento del gobierno escolar, es más probable que:\\n ¿Los niños califiquen con “D” que con “B”? Justifiquen su respuesta.\\n ¿Con “B” que con “E”?\\n5.  Si van a la escuela “El Libertador” que es lo más probable.\\n \\n ¿Qué califiquen con “D” que con “B”?\\n ¿Qué califiquen con “R” que con “B”?\\n6.  A un grupo de 200 niños se les pregunta por la mascota que más prefieren. La \\ngráfica muestra los resultados obtenidos. Si ustedes van y entrevistan a 10 niños \\nde este grupo, qué es más probable que les contesten:\\n¿Qué prefieren como mascota, más perros que peces?\\n¿Qué prefieren un perro o un gato, que un pez o un ave?\\nJustifiquen sus respuestas.\\n'),\n",
       " Document(metadata={'source': 'data/articles-340089_ARCHIVO_PDF_MATEM_GRADO5_03.pdf', 'page': 73}, page_content='Matemáticas\\n74\\n7.  Contesta las preguntas:\\n ¿Cuál es el porcentaje de los niños encuestados en la Escuela \\n“El Libertador” que dieron una calificación regular?, ¿cuántos \\nniños fueron?\\n ¿En cuál de las dos escuelas la frecuencia absoluta \\ncorrespondiente a la calificación deficiente es mayor?\\n ¿En cuál de las dos escuelas la frecuencia relativa \\ncorrespondiente a la calificación regular es mayor?\\n ¿Cuál es el porcentaje de los niños en cada escuela que \\ncontestaron diferente a regular en la escuela “El Libertador”?\\n Comparen los resultados de las dos escuelas, ¿en cuál de \\nlas dos escuelas el gobierno escolar cuenta con una opinión \\nmenos favorable entre sus estudiantes?\\n'),\n",
       " Document(metadata={'source': 'data/articles-340089_ARCHIVO_PDF_MATEM_GRADO5_03.pdf', 'page': 74}, page_content='75\\nGuía 17C\\nUtilicemos las ideas de media\\n1.  Hagan un estudio sobre el peso, estatura y edad de los \\ncompañeros del curso. Si en la escuela hay pocos estudiantes \\nrecojan datos de la totalidad, pero si hay muchos, tomen una parte \\nde ellos de más o menos 20 niños. Decidan si desean hacer el \\nestudio con los estudiantes de un curso o de todos los cursos.\\nElaboren una tabla de datos como se muestra.\\nCódigo peso  edad estatura\\n01\\n02\\n03\\nComo no interesa el \\nnombre del niño, se \\nasigna un número.\\nDecidan las \\nunidades en \\nlas que van a \\ntrabajar.\\nRango de variación de una medida\\nEl rango de un grupo de datos consiste en decir el mínimo valor de \\nlos datos y el máximo valor.\\nEjemplo: \\nAl pesar a los niños el mínimo es A y el máximo peso es B\\nA B\\nEsta información es muy útil porque nos dice de dónde a dónde \\ntoman valores los datos.\\nGuía 17 C'),\n",
       " Document(metadata={'source': 'data/articles-340089_ARCHIVO_PDF_MATEM_GRADO5_03.pdf', 'page': 75}, page_content='Matemáticas\\n76\\n2.  Haz tres tablas diferentes a partir de la tabla de la página anterior \\nen la que presentes los datos ordenados de mayor a menor.\\nPesos ordenados de \\nmenor a mayor\\nCódigo peso\\n08\\n19\\n03\\n14\\nEdades ordenadas de \\nmenor a mayor \\nCódigo Edad\\nEstaturas ordenadas de \\nmenor a mayor\\nCódigo Estatura\\nCon base en estas tablas di el rango de variación de las tres \\nmagnitudes del estudio.\\nCambia \\nporque lo \\ndefine el peso'),\n",
       " Document(metadata={'source': 'data/articles-340089_ARCHIVO_PDF_MATEM_GRADO5_03.pdf', 'page': 76}, page_content='77\\nGuía 17 C\\nMedia aritmética\\nEn la tabla aparecen los pesos de 5 niños del curso quinto de \\nuna escuela.\\nNombre peso (Kg)\\nJulián 24.6\\nSofía 26.3\\nCarolina 23.1\\nPedro 25.8\\nSebastián 26.7\\nLa suma de estos pesos es:\\n24.6 + 26.3 + 23.1 + 25.8 + 26.7 = 126.5\\nComo son 5 niños la división \\n126.5 ÷ 5 = 25.3\\nSignifica que si todos los niños pesaran lo mismo, \\nel peso sería de 25.3 Kg\\nEsta es una forma que con frecuencia se usa para describir un grupo de \\ndatos, se llama media aritmética.\\nEn este caso se podría decir: el peso promedio es 25.3 Kg\\n3.  Encuentren los pesos promedios, las estaturas promedio y las \\nedades promedio del estudio que están haciendo. Pídanle a \\nsu profesor que les ayude a escribir, como un número decimal, \\nedades como 8 años y 3 meses.\\n Por ejemplo 8 años y 6 meses se escribe 8.5 años (8 años y \\nmedio año. Recuerden que 5\\n10  es la mitad).\\n'),\n",
       " Document(metadata={'source': 'data/articles-340089_ARCHIVO_PDF_MATEM_GRADO5_03.pdf', 'page': 77}, page_content='Matemáticas\\n78\\n4.  De una caja los niños toman 8 naranjas; para conocer cuánto es más o menos el \\npeso de una naranja para estar más seguros no la escogen, la toman al “azar”, \\ncierran los ojos, revuelven bastante y las van sacando.\\n Los pesos de estas naranjas en gramos son:\\n 320 305 270 290\\n 272 310 293 250\\n Calculen el peso promedio de estas 8 naranjas.\\n Escriban todos los pesos mayores al peso promedio.\\n Escriban todos los pesos menores al peso promedio.\\n'),\n",
       " Document(metadata={'source': 'data/articles-340089_ARCHIVO_PDF_MATEM_GRADO5_03.pdf', 'page': 78}, page_content='79\\nGuía 17D\\nInvestiguemos\\n1.  Conversen sobre hechos de la escuela o de la comunidad que \\nles interese investigar. Pídanle ayuda a su profesor o profesora. \\nTengan en cuenta cosas como:\\n  Precisar muy bien las preguntas que desean responder.\\n ¿Cuál es la información que tienen que recoger?\\n ¿Cómo van a recogerla?\\n ¿Cómo van a organizar la información? ¿Qué tablas y \\ngráficas van elaborar?\\n ¿Cómo van a analizar la información?\\n ¿Cómo van a elaborar su informe?\\n2.  Elaboren una tabla de frecuencias absolutas y relativas y las \\ngráficas de barras correspondientes al estudio que muestra  \\nla gráfica. \\nVenta de periódicos por mes \\nPrimer semestre del 2010\\n300\\n250\\n200\\n150\\n100\\n50\\n0\\nEnero Febrero Marzo MayoAbril Junio\\nNúmero de ejemplares\\n155\\n85\\n190\\n240\\n120\\n210\\nGuía 17 D'),\n",
       " Document(metadata={'source': 'data/articles-340089_ARCHIVO_PDF_MATEM_GRADO5_03.pdf', 'page': 79}, page_content='Matemáticas\\n80\\n  Hagamos arreglos en los que importa el orden\\nGuía 18 A Aprendamos algo más de arreglos\\n Los arreglos requieren reglas. Hay en ellos dos aspectos que se han de tener \\nen cuenta: el orden y la repetición. En cada situación es importante conocer \\nlas reglas que se van a establecer. Analiza con tus compañeras y compañeros \\nalgunas situaciones y decidan cuáles pueden ser estas reglas.\\n1. Tres participantes en un acto cultural.\\n En un acto cultural tres niños van a cantar. Cada uno ha preparado \\nsu intervención. Los organizadores deben decidir quién lo hará \\nprimero, quién en el segundo lugar y quién en el tercer lugar.\\n ¿De cuántas maneras diferentes se puede organizar esta presentación?\\nRafael Clara Jaime'),\n",
       " Document(metadata={'source': 'data/articles-340089_ARCHIVO_PDF_MATEM_GRADO5_03.pdf', 'page': 80}, page_content='81\\n2.  Resuelvan la siguiente situación: Cecilia y sus papás asisten a una \\nfunción. Ocuparán tres sillas seguidas.\\n ¿De cuántas maneras diferentes se pueden acomodar?\\n ¿Es importante el orden en estos arreglos?\\n ¿Hay repetición? ¡Cecilia no puede sentarse a la vez en las tres \\nsillas!\\n3.  Con las cifras 1, 2 y 3 se pueden escribir números de tres cifras. \\n¿Cuántos diferentes?\\n¿Se pueden  \\n repetir las cifras?\\nHáganlo sin repetir cifras.\\n312 y 321\\n¿Encuentran otros números diferentes a los que dicen estos niños?\\n¿Cuántos más encuentran si se puede repetir cada cifra hasta dos veces?\\nYo repetí el 1 dos \\nveces… 112  121 211\\n113  131 311\\nEscriban además los números en los que el 2 y el 3 se repiten dos veces.\\n¿Cuántos números más encuentran?\\nY, si cada cifra se puede repetir tres veces, ¿qué otros números \\npueden escribir?\\n 111,…\\n¿Cuántos números encontraron cuando tuvieron en cuenta el orden y \\nademás se podía repetir?\\n123 y 132 213 y 231\\nGuía 18 A'),\n",
       " Document(metadata={'source': 'data/articles-340089_ARCHIVO_PDF_MATEM_GRADO5_03.pdf', 'page': 81}, page_content='Matemáticas\\n82\\n Hagamos arreglos en los que no importa el orden\\nGuía 18 B\\n1.  A veces el orden no importa para hacer arreglos.\\n ¿Cuántos helados de tres sabores se pueden fabricar si hay para \\nescoger: piña, mora, naranja, guayaba y limón?\\nHelados con sabor \\na piña y otros dos \\nsabores\\nNaranja\\nMora Guayaba\\nLimón\\nPiña Naranja Guayaba\\nLimón\\nGuayaba Limón\\nLimón\\nNaranja Guayaba\\nMora\\nLimón Guayaba\\nNaranja Limón Guayaba\\nPiña, naranja y limón, \\nme sabe lo mismo que \\nnaranja, limón y piña.\\nOtros helados con sabor a mora y…\\nSólo falta uno con \\nsabor a naranja y…\\nInventen un problema en donde haya arreglos y el orden no importe.\\nR. 10 helados de 3 sabores.'),\n",
       " Document(metadata={'source': 'data/articles-340089_ARCHIVO_PDF_MATEM_GRADO5_03.pdf', 'page': 82}, page_content='83\\n2.  Cuenten arreglos y hagan gráficas.\\n Si lanzan al aire dos monedas, ¿de cuántas formas diferentes pueden caer? ¡Las \\nmonedas tienen cara o sello!\\nLas dos monedas pueden caer de cuatro formas diferentes.\\nCuenten los arreglos que muestren 0 caras, 1 cara, 2 caras.\\n¿Quién tiene más posibilidades de ganar al lanzar dos monedas?\\n¿Quién apuesta a sacar una cara o quién apuesta a sacar dos caras? \\n¿Por qué?\\n¿Quién apuesta a sacar dos caras o quién apuesta a sacar ninguna \\ncara? ¿Por qué?\\nGuía 18 B\\n2\\n2\\n1\\n10 Número de caras\\nNúmero de arreglos'),\n",
       " Document(metadata={'source': 'data/articles-340089_ARCHIVO_PDF_MATEM_GRADO5_03.pdf', 'page': 83}, page_content='Matemáticas\\n84\\n Apliquemos lo aprendido\\nGuía 18 C\\n1.  Un niño deportista ha ganado tres trofeos en diferentes \\ncampeonatos. Los quiere colocar en una repisa.\\n¿De cuántas formas diferentes los puede ordenar?\\n¿Cabe la repetición en estos arreglos?\\n2.  Escribe todos los posibles números de dos cifras \\nelegidos entre las cifras 2, 3, 4.\\n Te preguntarás: ¿con o sin repetición? Hazlo para \\nlos dos casos.\\n3.  Con las letras de la palabra saco, ¿cuántos vocablos diferentes puedes formar sin \\nrepetir letras? ¿Cuántos y cuáles de esos vocablos tienen significado?\\n4.  Se llama capicúa a un número que se lee de igual forma de izquierda a derecha \\nque de derecha a izquierda. Escribe 10 números capicúa.\\n'),\n",
       " Document(metadata={'source': 'data/articles-340089_ARCHIVO_PDF_MATEM_GRADO5_03.pdf', 'page': 84}, page_content='85\\n5.  Se quiere hacer una bandera para los eventos deportivos. Se acuerda que ésta \\nsea de dos franjas horizontales. Los colores para elegir son: verde, blanco, rojo y \\namarillo. Considera que dos banderas como las del dibujo son diferentes.\\n¿Qué posibilidad de banderas diferentes encuentras?\\nDibújalas en tu cuaderno.\\n¿Será interesante la repetición de colores en este caso?\\n6.  Un dado tiene 6 caras. El dado del que hablamos es muy raro, la figura \\nmuestra el dado en dos posiciones de tal forma que puedes ver los puntos \\ncorrespondientes a sus seis caras.\\nSi lanzas un par de dados ¿de cuántas formas distintas pueden caer?\\nY si lanzas tres ¿cuántas posibilidades hay?\\nGuía 18 C\\nTres caras Otras tres caras'),\n",
       " Document(metadata={'source': 'data/articles-340089_ARCHIVO_PDF_MATEM_GRADO5_03.pdf', 'page': 85}, page_content='Matemáticas\\n86\\n Estudiemos situaciones comunes\\nGuía 18 D\\n Es interesante que compartas con los de tu casa las cosas nuevas y útiles que \\naprendes en la escuela. A veces es necesario elegir de un grupo de cosas o de \\npersonas algunas de ellas. En esas elecciones a veces importa el orden y otras no.\\n Te sugerimos algunos ejemplos que podrás desarrollar en compañía de los tuyos.\\n1.  ¿Cómo elegir a dos representantes de la comunidad cuando se \\ntiene, por ejemplo cuatro candidatos?\\n     \\nAura Bernardo Dalia César\\n Escribe las opciones que hay para hacer esta elección. ¿Es importante \\nel orden en este caso? ¿Por qué?\\n2.  ¿Cómo elegir a un presidente o una presidenta y a un tesorero o una tesorera, \\nentre las mismas cuatro personas?\\nPresidente tesorero'),\n",
       " Document(metadata={'source': 'data/articles-340089_ARCHIVO_PDF_MATEM_GRADO5_03.pdf', 'page': 86}, page_content='87\\n3.  Cuántas hectáreas de café hay sembradas en la región de San Juan?\\n La comunidad de San Juan tiene algunas estadísticas que muestran el \\nporcentaje de tierras dedicadas a ciertas actividades agrícolas y ganaderas.\\n La siguiente gráfica señala las más importantes.\\nEn esta región los cultivos de café ocupan 120 hectáreas.\\n ¿Podrías averiguar la extensión de los cultivos de frutales?\\n ¿Cuántas hectáreas están dedicadas a la ganadería?\\n ¿Cuántas hectáreas están sembradas de frutales?\\nExtensión de tierras\\n Café Pastos Frutales\\n50%\\n25%\\n10%\\nGuía 18 D\\n'),\n",
       " Document(metadata={'source': 'data/articles-340089_ARCHIVO_PDF_MATEM_GRADO5_03.pdf', 'page': 87}, page_content='¡Esperamos que hayas \\ndisfrutado este viaje \\nmaravilloso!\\nAquí termina la \\ntercera cartilla del \\ngrado Quinto.'),\n",
       " Document(metadata={'source': 'data/articles-340089_ARCHIVO_PDF_MATEM_GRADO5_03.pdf', 'page': 88}, page_content='Sugerencias\\n   para el Profesor\\nEstas páginas son un complemento de la Guía del maestro, sugerimos al lector \\nestudiar la parte de esta guía referida al área de matemáticas y especialmente, \\ntener presente aquéllos apartados directamente relacionados con las actividades \\nde esta cartilla. Aquí encontrará sugerencias prácticas y aclaraciones sobre las \\nactividades que se proponen. Estas sugerencias le serán útiles para ayudar a los \\nniños, pero no agotan sus necesidades de planeación y formación. Profesora o \\nprofesor, usted apoyará mejor a sus alumnos, entre mayor sea la comprensión \\nque tenga de la forma como ellos piensan cuando desarrollan las actividades \\npropuestas y entre mejor comprenda los conceptos que va a enseñar. Si le es \\nposible revise otros materiales que aparecen en las referencias bibliográficas \\nrecomendadas en la Guía del maestro. Recuerde que es posible que algunos de \\nellos los encuentre en la biblioteca de aula.\\nRecordemos que en la metodología de Escuela Nueva se concibe la enseñanza \\ncomo el espacio en el que el profesor dirige y orienta a los niños, apoyándolos \\npara que construyan y complejicen su pensamiento. El camino para lograr esto \\nno es el de brindar a los niños definiciones y procedimientos para que los memo-\\nricen. Más bien, consiste en enfrentar a los niños a múltiples y variadas expe-\\nriencias, llenas de significado y sentido, que los problematicen, para que apo-\\nyándose en sus propias comprensiones, creen y pongan a prueba ideas que los \\nlleven progresivamente a mejores soluciones. En este proceso interviene el maes-\\ntro, ofreciendo pequeñas sugerencias, haciendo nuevas preguntas, proponiendo \\nnuevas experiencias que sugieran nuevas relaciones, orientando el intercambio \\nde ideas, exigiendo explicaciones y razones, sugiriendo algunas consultas. En \\nfin, estimulando y agudizando la curiosidad de los niños.\\nEn la Guía del maestro, encontrará un cuadro en el que se  \\nindican los Estándares que se relacionan con las actividades  \\npropuestas en esta cartilla, se recomienda al maestro revisar  \\neste cuadro.'),\n",
       " Document(metadata={'source': 'data/articles-340089_ARCHIVO_PDF_MATEM_GRADO5_03.pdf', 'page': 89}, page_content='REComENDACIoNEs pARA tRABAjAR lA GuíA ⁄›\\nEn esta guía se enseñan, para algunos casos muy particulares, los algoritmos \\nestandarizados para calcular operaciones con decimales, el verdadero domino \\nde estos procedimientos es materia de trabajo en los grados de secundaria.\\nREComENDACIoNEs pARA tRABAjAR lA GuíA ⁄∞\\nEn la Guía ⁄∞ se enseñan escalas y porcentajes. Se familiariza a los niños con \\nunos porcentajes especiales y sus representaciones como fracción, como decimal \\ny gráficas.\\nREComENDACIoNEs pARA tRABAjAR lA GuíA ⁄§\\nEn esta guía se da un paso adelante en el estudio de la variación entre dos mag-\\nnitudes. Se muestra a los niños que hay formas de variación que tienen algo muy \\nespecial que consiste en mantener constante las razones entre valores correspon-\\ndientes (por ejemplo, la variación del precio de varias unidades de un mismo \\nartículo, comparada con el número de unidades compradas, como cuando se \\ncompra ⁄, ¤, ‹, … helados, se paga $⁄∞‚‚, $‹‚‚‚, $›∞‚‚…., Las razones: ⁄∞‚‚ : ⁄, \\n‹‚‚‚ : ¤, ›∞‚‚ : ‹, etc., son equivalentes). Se dice que este tipo de magnitudes \\nson proporcionales. Este hecho de la igualación de razones (las proporciones) se \\nutiliza para resolver problemas que solemos llamar como de proporcionalidad. \\nPero observe que no se trata de aprender el algoritmo que llamamos regla de \\ntres, sino de desarrollar intuiciones fuertes sobre la proporcionalidad. \\nREComENDACIoNEs pARA tRABAjAR lA GuíA ⁄‡\\nEn esta guía se retoma el conteo de arreglos, se muestran arreglos en los que es \\nimportante respetar el orden y otros en los que no.\\nProfesora o profesor las actividades de esta cartilla son una herramienta muy \\nútil para el trabajo con los niños, pero está en sus manos crear un ambiente \\nadecuado de trabajo, en el que incentive la curiosidad, el interés de los niños, \\nsu capacidad de preguntarse, de sorprenderse y de idear formas de indagación; \\nde construir conocimiento en colaboración con los otros. De autorregularse, de \\naportar a la regulación de otros y de admitir la regulación sana de los otros. Por \\neso es importante enriquecer las experiencias de los niños para ir más allá de las \\nque se presentan en esta cartilla. Es determinante su dirección, para contextua-'),\n",
       " Document(metadata={'source': 'data/articles-340089_ARCHIVO_PDF_MATEM_GRADO5_03.pdf', 'page': 90}, page_content='lizar las experiencias al medio, para aprovechar las oportunidades que surgen \\nde las inquietudes de los niños, de las situaciones cotidianas de la escuela y la \\ncomunidad local; para establecer conexiones con otras áreas, con los diversos \\nproyectos escolares, estrategias pedagógicas y actividades propias del modelo \\nde Escuela Nueva. Es este conjunto de acciones lo que promoverá logros cada vez \\nmayores que posibiliten acercar la acción pedagógica a los objetivos propuestos. \\nDe ahí la importancia de planear, de diseñar y de evaluar de manera permanente, \\nno sólo el progreso de los niños, sino de la propia acción pedagógica, e introdu-\\ncir los correctivos necesarios para adecuar el curso de la acción a las necesidades \\nde los estudiantes. '),\n",
       " Document(metadata={'source': 'data/articles-340089_ARCHIVO_PDF_MATEM_GRADO5_03.pdf', 'page': 91}, page_content='Ministerio de Educación Nacional\\nCalle 43 No. 57 - 14 Bogotá, D.C.\\nTeléfono 222 28 00\\nwww. mineducacion.gov.co ')]"
      ]
     },
     "execution_count": 50,
     "metadata": {},
     "output_type": "execute_result"
    }
   ],
   "source": [
    "raw_documents"
   ]
  },
  {
   "cell_type": "code",
   "execution_count": 62,
   "id": "7863d426-7535-46d8-b129-ca89eaed45e0",
   "metadata": {},
   "outputs": [],
   "source": [
    "separators=[\n",
    "        \"\\n\\n\",\n",
    "        \"\\n\",\n",
    "        \" \",\n",
    "        \".\",\n",
    "        \",\",\n",
    "        \"\\u200b\",  # Zero-width space\n",
    "        \"\\uff0c\",  # Fullwidth comma\n",
    "        \"\\u3001\",  # Ideographic comma\n",
    "        \"\\uff0e\",  # Fullwidth full stop\n",
    "        \"\\u3002\",  # Ideographic full stop\n",
    "        \"\",\n",
    "    ]\n",
    "text_splitter = RecursiveCharacterTextSplitter(separators=separators,chunk_size=1000, chunk_overlap=100)\n",
    "#text_splitter = CharacterTextSplitter(chunk_size=800, chunk_overlap=80)\n",
    "documents = text_splitter.split_documents(raw_documents)"
   ]
  },
  {
   "cell_type": "code",
   "execution_count": 63,
   "id": "48bcbb7c-be62-42b2-8a94-88094da21053",
   "metadata": {},
   "outputs": [
    {
     "data": {
      "text/plain": [
       "113"
      ]
     },
     "execution_count": 63,
     "metadata": {},
     "output_type": "execute_result"
    }
   ],
   "source": [
    "len(documents)"
   ]
  },
  {
   "cell_type": "code",
   "execution_count": 64,
   "id": "5435a3c5-06b8-48f8-8862-f207dbb26acb",
   "metadata": {},
   "outputs": [
    {
     "name": "stdout",
     "output_type": "stream",
     "text": [
      "page_content='Tercera Cartilla\n",
      "Matemáticas\n",
      "Escuela Nueva' metadata={'source': 'data/articles-340089_ARCHIVO_PDF_MATEM_GRADO5_03.pdf', 'page': 0}\n",
      "page_content='diseño y diagramación\n",
      "Elvira Ausique Lozano\n",
      "dirección editorial \n",
      "María Constanza Pardo Sarmiento\n",
      "Karem Langer Pardo  \n",
      "Gloria Díaz Granados M. diseño proyecto gráfico\n",
      "María José Díaz Granados M. corrección estilo\n",
      "Juan Ramón Sierra, Sebastián González Pardo. ilustración\n",
      "Javier David Tibocha. digitalización imágenes \n",
      "María Eugenia Caicedo Concha, María Consuelo Aguirre,  \n",
      "Fanny Sarmiento, Martha Lucía Vega. asesoras\n",
      "Blanca Elvira Villalobos Guarín. coordinadora administrativa\n",
      "Imágenes de las cartillas de Escuela Nueva 2010;  \n",
      "con derechos de autor previstos por las leyes nacionales e \n",
      "internacionales.\n",
      "© Alejo y Mariana son una creación “exclusiva” para las cartillas de \n",
      "Escuela Nueva. Por tanto, sólo podrán ser utilizados para Escuela Nueva.  \n",
      "Estos personajes han sido registrados por sus autores en la Dirección Nacional \n",
      "de Derechos de Autor del Ministerio de Gobierno, y están cobijados por las \n",
      "leyes nacionales e internacionales en materia de Derechos. Por lo anterior, no' metadata={'source': 'data/articles-340089_ARCHIVO_PDF_MATEM_GRADO5_03.pdf', 'page': 1}\n"
     ]
    }
   ],
   "source": [
    "print(documents[0])\n",
    "print(documents[1])"
   ]
  },
  {
   "cell_type": "code",
   "execution_count": 65,
   "id": "56188627-136a-4983-9aee-c1e4c0eba147",
   "metadata": {},
   "outputs": [],
   "source": [
    "oembed = OllamaEmbeddings(base_url=\"http://localhost:11434\", model=\"nomic-embed-text\")"
   ]
  },
  {
   "cell_type": "code",
   "execution_count": 66,
   "id": "3ba2fbb7-48fa-49e4-a645-cb7ef40f0068",
   "metadata": {},
   "outputs": [],
   "source": [
    "db = Chroma.from_documents(documents, embedding=oembed)"
   ]
  },
  {
   "cell_type": "code",
   "execution_count": 67,
   "id": "7f5a1b75-0a98-4352-abc0-ffe4d1d05a34",
   "metadata": {},
   "outputs": [],
   "source": [
    "query = \"razones y proporciones\"\n",
    "docs = db.similarity_search(query)"
   ]
  },
  {
   "cell_type": "code",
   "execution_count": 68,
   "id": "211f756e-f7e4-4585-91d6-6a7b85b57d29",
   "metadata": {},
   "outputs": [
    {
     "data": {
      "text/plain": [
       "4"
      ]
     },
     "execution_count": 68,
     "metadata": {},
     "output_type": "execute_result"
    }
   ],
   "source": [
    "len(docs)"
   ]
  },
  {
   "cell_type": "code",
   "execution_count": 71,
   "id": "0ca25a4e-8857-48b6-a76f-4d974e3ffe3d",
   "metadata": {},
   "outputs": [
    {
     "name": "stdout",
     "output_type": "stream",
     "text": [
      "Unidad 7 \n",
      "Algo más sobre razones  \n",
      "y proporciones\n"
     ]
    }
   ],
   "source": [
    "print(docs[0].page_content)"
   ]
  },
  {
   "cell_type": "code",
   "execution_count": 75,
   "id": "f0fbcce4",
   "metadata": {},
   "outputs": [
    {
     "name": "stdout",
     "output_type": "stream",
     "text": [
      "dientes (por ejemplo, la variación del precio de varias unidades de un mismo \n",
      "artículo, comparada con el número de unidades compradas, como cuando se \n",
      "compra ⁄, ¤, ‹, … helados, se paga $⁄∞‚‚, $‹‚‚‚, $›∞‚‚…., Las razones: ⁄∞‚‚ : ⁄, \n",
      "‹‚‚‚ : ¤, ›∞‚‚ : ‹, etc., son equivalentes). Se dice que este tipo de magnitudes \n",
      "son proporcionales. Este hecho de la igualación de razones (las proporciones) se \n",
      "utiliza para resolver problemas que solemos llamar como de proporcionalidad. \n",
      "Pero observe que no se trata de aprender el algoritmo que llamamos regla de \n",
      "tres, sino de desarrollar intuiciones fuertes sobre la proporcionalidad. \n",
      "REComENDACIoNEs pARA tRABAjAR lA GuíA ⁄‡\n",
      "En esta guía se retoma el conteo de arreglos, se muestran arreglos en los que es\n"
     ]
    }
   ],
   "source": [
    "print(docs[3].page_content)"
   ]
  },
  {
   "cell_type": "code",
   "execution_count": 76,
   "id": "3178f60d-97bf-41d2-be40-b9bae13407fb",
   "metadata": {},
   "outputs": [],
   "source": [
    "from langchain_core.prompts import ChatPromptTemplate\n",
    "from langchain_core.output_parsers import StrOutputParser\n",
    "from langchain_core.runnables import RunnablePassthrough"
   ]
  },
  {
   "cell_type": "code",
   "execution_count": 77,
   "id": "b6e90123-36fc-45e5-b43c-5c30d0e6f6bc",
   "metadata": {},
   "outputs": [],
   "source": [
    "template = \"\"\"Answer the question based only on the following context:\n",
    "\n",
    "{context}\n",
    "\n",
    "Question: {question}\n",
    "\"\"\"\n",
    "prompt = ChatPromptTemplate.from_template(template)"
   ]
  },
  {
   "cell_type": "code",
   "execution_count": 83,
   "id": "b11573e3-fc4c-435c-895f-1b5d853445ec",
   "metadata": {},
   "outputs": [],
   "source": [
    "model = ChatOllama(\n",
    "    model=\"llama3.1:8b\",\n",
    "    temperature=0\n",
    ")"
   ]
  },
  {
   "cell_type": "code",
   "execution_count": 84,
   "id": "b96b7084-2cc7-4793-b9a5-bda584caacb2",
   "metadata": {},
   "outputs": [],
   "source": [
    "retriever = db.as_retriever()"
   ]
  },
  {
   "cell_type": "code",
   "execution_count": 85,
   "id": "14fe830d-206a-4696-b969-beb8ab0a5b6b",
   "metadata": {},
   "outputs": [],
   "source": [
    "def format_docs(docs):\n",
    "    return \"\\n\\n\".join([d.page_content for d in docs])"
   ]
  },
  {
   "cell_type": "code",
   "execution_count": 86,
   "id": "f4b73779-543c-46fd-9599-1bece7c14893",
   "metadata": {},
   "outputs": [],
   "source": [
    "chain = (\n",
    "    {\"context\": retriever | format_docs, \"question\": RunnablePassthrough()}\n",
    "    | prompt\n",
    "    | model\n",
    "    | StrOutputParser()\n",
    ")"
   ]
  },
  {
   "cell_type": "code",
   "execution_count": 88,
   "id": "2f5e6d8d-b1a5-4084-ba43-bbbabc76eed3",
   "metadata": {},
   "outputs": [
    {
     "name": "stdout",
     "output_type": "stream",
     "text": [
      "Según el texto proporcionado, las razones y proporciones se refieren a la igualación de magnitudes que son equivalentes. Por ejemplo:\n",
      "\n",
      "* ⁄∞‚‚ : ⁄\n",
      "* ‹‚‚‚ : ¤\n",
      "* ›∞‚‚ : ‹\n",
      "\n",
      "Estas magnitudes se dicen que son proporcionales, lo que significa que mantienen una relación constante entre sí. El texto enfatiza que no se trata de aprender un algoritmo específico (como la \"regla de tres\"), sino más bien desarrollar intuiciones fuertes sobre la proporcionalidad para resolver problemas relacionados con ella.\n"
     ]
    }
   ],
   "source": [
    "print(chain.invoke(\"que son razones y proporciones\"))"
   ]
  }
 ],
 "metadata": {
  "kernelspec": {
   "display_name": ".venv",
   "language": "python",
   "name": "python3"
  },
  "language_info": {
   "codemirror_mode": {
    "name": "ipython",
    "version": 3
   },
   "file_extension": ".py",
   "mimetype": "text/x-python",
   "name": "python",
   "nbconvert_exporter": "python",
   "pygments_lexer": "ipython3",
   "version": "3.12.4"
  }
 },
 "nbformat": 4,
 "nbformat_minor": 5
}
