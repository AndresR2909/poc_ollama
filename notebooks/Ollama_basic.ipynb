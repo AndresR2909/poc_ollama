{
 "cells": [
  {
   "cell_type": "markdown",
   "id": "cca95f0e-6877-481a-b55e-64e500ffba37",
   "metadata": {},
   "source": [
    "## Using Ollama in Python"
   ]
  },
  {
   "cell_type": "code",
   "execution_count": 1,
   "id": "d0978439-e55f-4ff7-bb9f-6080f31c2aa4",
   "metadata": {},
   "outputs": [
    {
     "name": "stdout",
     "output_type": "stream",
     "text": [
      "Collecting ollama\n",
      "  Downloading ollama-0.4.4-py3-none-any.whl.metadata (4.7 kB)\n",
      "Collecting httpx<0.28.0,>=0.27.0 (from ollama)\n",
      "  Downloading httpx-0.27.2-py3-none-any.whl.metadata (7.1 kB)\n",
      "Collecting pydantic<3.0.0,>=2.9.0 (from ollama)\n",
      "  Downloading pydantic-2.10.3-py3-none-any.whl.metadata (172 kB)\n",
      "Collecting anyio (from httpx<0.28.0,>=0.27.0->ollama)\n",
      "  Downloading anyio-4.7.0-py3-none-any.whl.metadata (4.7 kB)\n",
      "Collecting certifi (from httpx<0.28.0,>=0.27.0->ollama)\n",
      "  Using cached certifi-2024.8.30-py3-none-any.whl.metadata (2.2 kB)\n",
      "Collecting httpcore==1.* (from httpx<0.28.0,>=0.27.0->ollama)\n",
      "  Downloading httpcore-1.0.7-py3-none-any.whl.metadata (21 kB)\n",
      "Collecting idna (from httpx<0.28.0,>=0.27.0->ollama)\n",
      "  Using cached idna-3.10-py3-none-any.whl.metadata (10 kB)\n",
      "Collecting sniffio (from httpx<0.28.0,>=0.27.0->ollama)\n",
      "  Using cached sniffio-1.3.1-py3-none-any.whl.metadata (3.9 kB)\n",
      "Collecting h11<0.15,>=0.13 (from httpcore==1.*->httpx<0.28.0,>=0.27.0->ollama)\n",
      "  Using cached h11-0.14.0-py3-none-any.whl.metadata (8.2 kB)\n",
      "Collecting annotated-types>=0.6.0 (from pydantic<3.0.0,>=2.9.0->ollama)\n",
      "  Using cached annotated_types-0.7.0-py3-none-any.whl.metadata (15 kB)\n",
      "Collecting pydantic-core==2.27.1 (from pydantic<3.0.0,>=2.9.0->ollama)\n",
      "  Downloading pydantic_core-2.27.1-cp312-cp312-macosx_11_0_arm64.whl.metadata (6.6 kB)\n",
      "Collecting typing-extensions>=4.12.2 (from pydantic<3.0.0,>=2.9.0->ollama)\n",
      "  Using cached typing_extensions-4.12.2-py3-none-any.whl.metadata (3.0 kB)\n",
      "Downloading ollama-0.4.4-py3-none-any.whl (13 kB)\n",
      "Downloading httpx-0.27.2-py3-none-any.whl (76 kB)\n",
      "Downloading httpcore-1.0.7-py3-none-any.whl (78 kB)\n",
      "Downloading pydantic-2.10.3-py3-none-any.whl (456 kB)\n",
      "Downloading pydantic_core-2.27.1-cp312-cp312-macosx_11_0_arm64.whl (1.8 MB)\n",
      "\u001b[2K   \u001b[38;2;114;156;31m━━━━━━━━━━━━━━━━━━━━━━━━━━━━━━━━━━━━━━━━\u001b[0m \u001b[32m1.8/1.8 MB\u001b[0m \u001b[31m451.0 kB/s\u001b[0m eta \u001b[36m0:00:00\u001b[0m1m447.2 kB/s\u001b[0m eta \u001b[36m0:00:01\u001b[0m\n",
      "\u001b[?25hUsing cached annotated_types-0.7.0-py3-none-any.whl (13 kB)\n",
      "Using cached typing_extensions-4.12.2-py3-none-any.whl (37 kB)\n",
      "Downloading anyio-4.7.0-py3-none-any.whl (93 kB)\n",
      "Using cached idna-3.10-py3-none-any.whl (70 kB)\n",
      "Using cached sniffio-1.3.1-py3-none-any.whl (10 kB)\n",
      "Using cached certifi-2024.8.30-py3-none-any.whl (167 kB)\n",
      "Using cached h11-0.14.0-py3-none-any.whl (58 kB)\n",
      "Installing collected packages: typing-extensions, sniffio, idna, h11, certifi, annotated-types, pydantic-core, httpcore, anyio, pydantic, httpx, ollama\n",
      "Successfully installed annotated-types-0.7.0 anyio-4.7.0 certifi-2024.8.30 h11-0.14.0 httpcore-1.0.7 httpx-0.27.2 idna-3.10 ollama-0.4.4 pydantic-2.10.3 pydantic-core-2.27.1 sniffio-1.3.1 typing-extensions-4.12.2\n",
      "Note: you may need to restart the kernel to use updated packages.\n"
     ]
    }
   ],
   "source": [
    "pip install ollama"
   ]
  },
  {
   "cell_type": "code",
   "execution_count": 2,
   "id": "99709603-d9d9-4f3a-bf46-ebd0b22abb04",
   "metadata": {},
   "outputs": [],
   "source": [
    "import ollama"
   ]
  },
  {
   "cell_type": "markdown",
   "id": "e947abba-02a3-4244-b817-d92e05fbf55a",
   "metadata": {},
   "source": [
    "#### Downloading the models"
   ]
  },
  {
   "cell_type": "code",
   "execution_count": null,
   "id": "216b0efd-315e-4386-9446-a4401cd9dffd",
   "metadata": {},
   "outputs": [],
   "source": [
    "#ollama.pull('llama3.1:8b')"
   ]
  },
  {
   "cell_type": "markdown",
   "id": "8642bbcd-d5c7-4d16-964b-1e1006fc8f5d",
   "metadata": {},
   "source": [
    "#### Getting response from models"
   ]
  },
  {
   "cell_type": "code",
   "execution_count": 3,
   "id": "bf539029-d7c6-4588-9a24-0e7279002c5e",
   "metadata": {},
   "outputs": [
    {
     "name": "stdout",
     "output_type": "stream",
     "text": [
      "¡Claro! El teorema de Pitágoras es una de las fórmulas más famosas y utilizadas en matemáticas, especialmente en geometría. Fue descubierto por el filósofo griego Pitágoras (c. 570-495 a.C.) y se aplica para encontrar la longitud de un lado de un triángulo rectángulo cuando conocemos las longitudes de los otros dos lados.\n",
      "\n",
      "**Enunciado del teorema:**\n",
      "\n",
      "Dado un triángulo rectángulo con catetos (los lados que forman el ángulo recto) de longitudes \\(a\\) y \\(b\\), y la hipotenusa (el lado opuesto al ángulo recto, o el lado más largo del triángulo) de longitud \\(c\\), se cumple lo siguiente:\n",
      "\n",
      "\\[a^2 + b^2 = c^2\\]\n",
      "\n",
      "**Interpretación:**\n",
      "\n",
      "- Los lados \\(a\\) y \\(b\\) son los catetos del triángulo rectángulo.\n",
      "- El lado \\(c\\) es la hipotenusa, el lado opuesto al ángulo recto.\n",
      "\n",
      "La fórmula sugiere que si se conoce la longitud de dos lados en un triángulo rectángulo (ya sean los catetos o una combinación de ellos), se puede calcular fácilmente la longitud del tercer lado. Este teorema es crucial para resolver problemas relacionados con triángulos rectángulos, especialmente cuando involucran mediciones y distancias.\n",
      "\n",
      "**Ejemplo práctico:**\n",
      "\n",
      "Supongamos que tenemos un triángulo rectángulo con una hipotenusa de 10 cm y uno de los catetos de 6 cm. Queremos saber la longitud del otro cateto (\\(b\\)).\n",
      "\n",
      "Usando el teorema de Pitágoras:\n",
      "\n",
      "\\[a^2 + b^2 = c^2\\]\n",
      "\n",
      "Se nos da que \\(c = 10\\) cm y queremos encontrar \\(b\\), suponiendo que \\(a = 6\\) cm:\n",
      "\n",
      "\\[6^2 + b^2 = 10^2\\]\n",
      "\\[36 + b^2 = 100\\]\n",
      "\n",
      "Restando 36 de ambos lados:\n",
      "\n",
      "\\[b^2 = 64\\]\n",
      "\n",
      "Sacando la raíz cuadrada de ambos lados (asumiendo \\(b\\) es positivo):\n",
      "\n",
      "\\[b = 8\\text{ cm}\\]\n",
      "\n",
      "Por lo tanto, el otro cateto mide 8 cm.\n",
      "\n",
      "El teorema de Pitágoras es una herramienta versátil y fundamental en matemáticas, siendo aplicado en diversas áreas como la geometría descriptiva, las ingenierías (civil, mecánica, electrónica, etc.), la física, la astronomía y muchas otras disciplinas que involucran medidas y relaciones espaciales.\n"
     ]
    }
   ],
   "source": [
    "result = ollama.generate(model='llama3.1:8b',\n",
    "  prompt='explicame el teorema de pitagoras',\n",
    ")\n",
    "print(result['response'])"
   ]
  },
  {
   "cell_type": "code",
   "execution_count": 4,
   "id": "4d1a1454-4471-43e7-8f57-a5e56933b4c9",
   "metadata": {
    "scrolled": true
   },
   "outputs": [
    {
     "data": {
      "text/plain": [
       "GenerateResponse(model='llama3.1:8b', created_at='2024-12-10T14:58:37.75055Z', done=True, done_reason='stop', total_duration=26801976375, load_duration=568714333, prompt_eval_count=21, prompt_eval_duration=928000000, eval_count=618, eval_duration=25303000000, response='¡Claro! El teorema de Pitágoras es una de las fórmulas más famosas y utilizadas en matemáticas, especialmente en geometría. Fue descubierto por el filósofo griego Pitágoras (c. 570-495 a.C.) y se aplica para encontrar la longitud de un lado de un triángulo rectángulo cuando conocemos las longitudes de los otros dos lados.\\n\\n**Enunciado del teorema:**\\n\\nDado un triángulo rectángulo con catetos (los lados que forman el ángulo recto) de longitudes \\\\(a\\\\) y \\\\(b\\\\), y la hipotenusa (el lado opuesto al ángulo recto, o el lado más largo del triángulo) de longitud \\\\(c\\\\), se cumple lo siguiente:\\n\\n\\\\[a^2 + b^2 = c^2\\\\]\\n\\n**Interpretación:**\\n\\n- Los lados \\\\(a\\\\) y \\\\(b\\\\) son los catetos del triángulo rectángulo.\\n- El lado \\\\(c\\\\) es la hipotenusa, el lado opuesto al ángulo recto.\\n\\nLa fórmula sugiere que si se conoce la longitud de dos lados en un triángulo rectángulo (ya sean los catetos o una combinación de ellos), se puede calcular fácilmente la longitud del tercer lado. Este teorema es crucial para resolver problemas relacionados con triángulos rectángulos, especialmente cuando involucran mediciones y distancias.\\n\\n**Ejemplo práctico:**\\n\\nSupongamos que tenemos un triángulo rectángulo con una hipotenusa de 10 cm y uno de los catetos de 6 cm. Queremos saber la longitud del otro cateto (\\\\(b\\\\)).\\n\\nUsando el teorema de Pitágoras:\\n\\n\\\\[a^2 + b^2 = c^2\\\\]\\n\\nSe nos da que \\\\(c = 10\\\\) cm y queremos encontrar \\\\(b\\\\), suponiendo que \\\\(a = 6\\\\) cm:\\n\\n\\\\[6^2 + b^2 = 10^2\\\\]\\n\\\\[36 + b^2 = 100\\\\]\\n\\nRestando 36 de ambos lados:\\n\\n\\\\[b^2 = 64\\\\]\\n\\nSacando la raíz cuadrada de ambos lados (asumiendo \\\\(b\\\\) es positivo):\\n\\n\\\\[b = 8\\\\text{ cm}\\\\]\\n\\nPor lo tanto, el otro cateto mide 8 cm.\\n\\nEl teorema de Pitágoras es una herramienta versátil y fundamental en matemáticas, siendo aplicado en diversas áreas como la geometría descriptiva, las ingenierías (civil, mecánica, electrónica, etc.), la física, la astronomía y muchas otras disciplinas que involucran medidas y relaciones espaciales.', context=[128006, 882, 128007, 271, 4683, 416, 373, 658, 1028, 461, 1764, 409, 20428, 351, 65747, 128009, 128006, 78191, 128007, 271, 40932, 5176, 17606, 0, 4072, 1028, 461, 1764, 409, 40079, 1995, 5746, 300, 1560, 5203, 409, 5252, 282, 1832, 8892, 26622, 11158, 2138, 87909, 379, 33272, 11354, 665, 5634, 336, 92355, 11, 95102, 665, 69086, 81, 7583, 13, 435, 361, 6697, 55333, 14200, 4247, 658, 1488, 1832, 708, 831, 23854, 13546, 40079, 1995, 5746, 300, 320, 66, 13, 220, 18712, 12, 21038, 264, 732, 6266, 379, 513, 1469, 15677, 3429, 46723, 1208, 49704, 409, 653, 44524, 409, 653, 2463, 100659, 8938, 7763, 100659, 8938, 27443, 33946, 15295, 5252, 1317, 21237, 409, 2537, 39505, 8924, 326, 5670, 382, 334, 1737, 18931, 2172, 1624, 1028, 461, 1764, 25, 57277, 35, 2172, 653, 2463, 100659, 8938, 7763, 100659, 8938, 390, 8415, 295, 437, 320, 2353, 326, 5670, 1744, 1376, 276, 658, 19216, 983, 8938, 7763, 78, 8, 409, 1317, 21237, 18240, 64, 58858, 379, 18240, 65, 59, 705, 379, 1208, 18638, 66728, 31853, 320, 301, 44524, 1200, 32591, 453, 19216, 983, 8938, 7763, 78, 11, 297, 658, 44524, 11158, 65013, 1624, 2463, 100659, 8938, 8, 409, 49704, 18240, 66, 59, 705, 513, 12454, 698, 781, 56001, 1473, 79145, 64, 61, 17, 489, 293, 61, 17, 284, 272, 61, 17, 59, 2595, 334, 3386, 8203, 5840, 25, 57277, 12, 9853, 326, 5670, 18240, 64, 58858, 379, 18240, 65, 58858, 4538, 2537, 8415, 295, 437, 1624, 2463, 100659, 8938, 7763, 100659, 8938, 627, 12, 4072, 44524, 18240, 66, 58858, 1560, 1208, 18638, 66728, 31853, 11, 658, 44524, 1200, 32591, 453, 19216, 983, 8938, 7763, 78, 382, 8921, 282, 1832, 8892, 5724, 31705, 19380, 1744, 4502, 513, 390, 81656, 1208, 49704, 409, 8924, 326, 5670, 665, 653, 2463, 100659, 8938, 7763, 100659, 8938, 320, 7911, 85522, 2537, 8415, 295, 437, 297, 5203, 68225, 5840, 409, 54430, 705, 513, 21329, 97627, 60240, 12826, 1208, 49704, 1624, 89981, 44524, 13, 39776, 1028, 461, 1764, 1560, 16996, 3429, 37320, 54869, 47105, 5670, 390, 2463, 100659, 29752, 7763, 100659, 29752, 11, 95102, 27443, 4457, 1791, 6713, 8249, 11685, 379, 1612, 80741, 382, 334, 36, 73, 31310, 64267, 302, 4042, 25, 57277, 10254, 647, 10808, 1744, 71548, 653, 2463, 100659, 8938, 7763, 100659, 8938, 390, 5203, 18638, 66728, 31853, 409, 220, 605, 10166, 379, 24840, 409, 2537, 8415, 295, 437, 409, 220, 21, 10166, 13, 3489, 261, 15295, 42104, 1208, 49704, 1624, 39192, 8415, 11269, 20374, 7, 65, 59, 595, 382, 3642, 4988, 658, 1028, 461, 1764, 409, 40079, 1995, 5746, 300, 1473, 79145, 64, 61, 17, 489, 293, 61, 17, 284, 272, 61, 17, 59, 2595, 1542, 12155, 3067, 1744, 18240, 66, 284, 220, 605, 58858, 10166, 379, 30234, 15295, 46723, 18240, 65, 59, 705, 1043, 21446, 8862, 1744, 18240, 64, 284, 220, 21, 58858, 10166, 1473, 79145, 21, 61, 17, 489, 293, 61, 17, 284, 220, 605, 61, 17, 59, 933, 79145, 1927, 489, 293, 61, 17, 284, 220, 1041, 59, 2595, 12698, 4988, 220, 1927, 409, 91793, 326, 5670, 1473, 79145, 65, 61, 17, 284, 220, 1227, 59, 2595, 94528, 4988, 1208, 15473, 2483, 89, 7015, 15008, 2649, 409, 91793, 326, 5670, 320, 300, 25330, 8862, 18240, 65, 58858, 1560, 20940, 6632, 7887, 79145, 65, 284, 220, 23, 59, 1342, 90, 10166, 11281, 2595, 29197, 781, 33186, 11, 658, 39192, 8415, 11269, 296, 579, 220, 23, 10166, 382, 6719, 1028, 461, 1764, 409, 40079, 1995, 5746, 300, 1560, 5203, 83090, 64, 5553, 1995, 1678, 379, 16188, 665, 5634, 336, 92355, 11, 82366, 30540, 2172, 665, 99383, 95162, 8112, 1208, 69086, 81, 7583, 951, 1250, 10126, 11, 5252, 46492, 1291, 25318, 320, 94230, 11, 75878, 11644, 3074, 11, 43906, 93063, 11, 5099, 25390, 1208, 65946, 3074, 11, 1208, 46382, 7583, 379, 64559, 51966, 15869, 20718, 1744, 4457, 1791, 6713, 83120, 379, 97673, 16948, 28139, 645, 13])"
      ]
     },
     "execution_count": 4,
     "metadata": {},
     "output_type": "execute_result"
    }
   ],
   "source": [
    "result"
   ]
  },
  {
   "cell_type": "code",
   "execution_count": 5,
   "id": "7734be33-c0ec-452c-a688-0e57a951e53d",
   "metadata": {},
   "outputs": [
    {
     "name": "stdout",
     "output_type": "stream",
     "text": [
      "El teorema de Pitágoras! Uno de los teoremas más famosos y fundamentales en la geometría euclidiana. Se trata de una relación entre las longitudes de los lados de un triángulo rectángulo, descubierto por el matemático griego Pitágoras (c. 570-495 a.C.).\n",
      "\n",
      "**Enunciado del teorema**\n",
      "\n",
      "Sea un triángulo rectángulo con catetos de longitud $a$ y $b$, y hipotenusa de longitud $c$. Entonces, la relación entre estas longitudes se puede expresar como:\n",
      "\n",
      "$$a^2 + b^2 = c^2$$\n",
      "\n",
      "**Explicación gráfica**\n",
      "\n",
      "Imagina un triángulo rectángulo con catetos que se cruzan en un ángulo recto. La hipotenusa es el lado opuesto al ángulo recto, y es la longitud más larga del triángulo.\n",
      "\n",
      "El teorema de Pitágoras establece que si calculamos el cuadrado de la longitud de cada cateto ($a^2$ y $b^2$), y los sumamos, obtenemos como resultado el cuadrado de la longitud de la hipotenusa ($c^2$).\n",
      "\n",
      "**Ejemplo**\n",
      "\n",
      "Supongamos que tenemos un triángulo rectángulo con catetos de 3 unidades y 4 unidades. ¿Cuál es la longitud de la hipotenusa?\n",
      "\n",
      "Usando el teorema de Pitágoras, calculamos:\n",
      "\n",
      "$$a^2 + b^2 = c^2 \\Rightarrow 3^2 + 4^2 = c^2 \\Rightarrow 9 + 16 = c^2 \\Rightarrow 25 = c^2 \\Rightarrow c = \\sqrt{25} \\Rightarrow c = 5$$\n",
      "\n",
      "Por lo tanto, la longitud de la hipotenusa es de 5 unidades.\n",
      "\n",
      "**Aplicaciones del teorema**\n",
      "\n",
      "El teorema de Pitágoras tiene innumerables aplicaciones en la matemática y en el mundo real. Algunos ejemplos son:\n",
      "\n",
      "1. **Física**: se utiliza para calcular distancias, velocidades y aceleraciones en problemas de mecánica.\n",
      "2. **Arquitectura**: se utiliza para diseñar edificios y estructuras que deben soportar cargas y esfuerzos.\n",
      "3. **Náutica**: se utiliza para calcular la distancia entre dos puntos en el mar, ya sea para navegar o para establecer una ruta de escape en caso de emergencia.\n",
      "\n",
      "En resumen, el teorema de Pitágoras es un poderoso herramienta matemática que relaciona las longitudes de los lados de un triángulo rectángulo. Su aplicación es vasta y puede ayudarnos a resolver problemas en diversas áreas del conocimiento.\n"
     ]
    }
   ],
   "source": [
    "response = ollama.chat(model='llama3.1:8b', messages=[\n",
    "  {\n",
    "    'role': 'user',\n",
    "    'content': 'explicame el teorema de pitagoras',\n",
    "  },\n",
    "])\n",
    "print(response['message']['content'])"
   ]
  },
  {
   "cell_type": "code",
   "execution_count": 7,
   "id": "64d50b49-834e-4270-885d-f4e30dc4ca09",
   "metadata": {},
   "outputs": [
    {
     "name": "stdout",
     "output_type": "stream",
     "text": [
      "model='llama3.1:8b' created_at='2024-12-10T15:00:02.573777Z' done=True done_reason='stop' total_duration=25265909291 load_duration=31173541 prompt_eval_count=21 prompt_eval_duration=179000000 eval_count=612 eval_duration=25055000000 message=Message(role='assistant', content='El teorema de Pitágoras! Uno de los teoremas más famosos y fundamentales en la geometría euclidiana. Se trata de una relación entre las longitudes de los lados de un triángulo rectángulo, descubierto por el matemático griego Pitágoras (c. 570-495 a.C.).\\n\\n**Enunciado del teorema**\\n\\nSea un triángulo rectángulo con catetos de longitud $a$ y $b$, y hipotenusa de longitud $c$. Entonces, la relación entre estas longitudes se puede expresar como:\\n\\n$$a^2 + b^2 = c^2$$\\n\\n**Explicación gráfica**\\n\\nImagina un triángulo rectángulo con catetos que se cruzan en un ángulo recto. La hipotenusa es el lado opuesto al ángulo recto, y es la longitud más larga del triángulo.\\n\\nEl teorema de Pitágoras establece que si calculamos el cuadrado de la longitud de cada cateto ($a^2$ y $b^2$), y los sumamos, obtenemos como resultado el cuadrado de la longitud de la hipotenusa ($c^2$).\\n\\n**Ejemplo**\\n\\nSupongamos que tenemos un triángulo rectángulo con catetos de 3 unidades y 4 unidades. ¿Cuál es la longitud de la hipotenusa?\\n\\nUsando el teorema de Pitágoras, calculamos:\\n\\n$$a^2 + b^2 = c^2 \\\\Rightarrow 3^2 + 4^2 = c^2 \\\\Rightarrow 9 + 16 = c^2 \\\\Rightarrow 25 = c^2 \\\\Rightarrow c = \\\\sqrt{25} \\\\Rightarrow c = 5$$\\n\\nPor lo tanto, la longitud de la hipotenusa es de 5 unidades.\\n\\n**Aplicaciones del teorema**\\n\\nEl teorema de Pitágoras tiene innumerables aplicaciones en la matemática y en el mundo real. Algunos ejemplos son:\\n\\n1. **Física**: se utiliza para calcular distancias, velocidades y aceleraciones en problemas de mecánica.\\n2. **Arquitectura**: se utiliza para diseñar edificios y estructuras que deben soportar cargas y esfuerzos.\\n3. **Náutica**: se utiliza para calcular la distancia entre dos puntos en el mar, ya sea para navegar o para establecer una ruta de escape en caso de emergencia.\\n\\nEn resumen, el teorema de Pitágoras es un poderoso herramienta matemática que relaciona las longitudes de los lados de un triángulo rectángulo. Su aplicación es vasta y puede ayudarnos a resolver problemas en diversas áreas del conocimiento.', images=None, tool_calls=None)\n"
     ]
    }
   ],
   "source": [
    "print(response)"
   ]
  },
  {
   "cell_type": "markdown",
   "id": "cef12f42-5925-4ec2-b85f-8b98272fcf0e",
   "metadata": {},
   "source": [
    "#### Creating custom models"
   ]
  },
  {
   "cell_type": "code",
   "execution_count": 8,
   "id": "318c405c-9822-46a4-8dfb-5c3fa666bd98",
   "metadata": {},
   "outputs": [
    {
     "data": {
      "text/plain": [
       "ProgressResponse(status='success', completed=None, total=None, digest=None)"
      ]
     },
     "execution_count": 8,
     "metadata": {},
     "output_type": "execute_result"
    }
   ],
   "source": [
    "modelfile='''\n",
    "FROM llama3.1:8b\n",
    "SYSTEM Eres un profesor de matematicas basicas para niños y adolecentes, responde solo temas relacionados a matematicas.\n",
    "'''\n",
    "\n",
    "ollama.create(model='profesor', modelfile=modelfile)"
   ]
  },
  {
   "cell_type": "code",
   "execution_count": 9,
   "id": "c633e363-d0d6-45ff-b64c-6a0c22597a5e",
   "metadata": {
    "scrolled": true
   },
   "outputs": [
    {
     "data": {
      "text/plain": [
       "ListResponse(models=[Model(model='profesor:latest', modified_at=datetime.datetime(2024, 12, 10, 10, 2, 14, 561838, tzinfo=TzInfo(-05:00)), digest='2c464f25b358d6fc8cc6dbd28e08c93f3e7735e32f79d79ed004f1487925dcb0', size=4920753516, details=ModelDetails(parent_model='', format='gguf', family='llama', families=['llama'], parameter_size='8.0B', quantization_level='Q4_K_M')), Model(model='llama3.2:3b', modified_at=datetime.datetime(2024, 12, 10, 9, 21, 19, 218019, tzinfo=TzInfo(-05:00)), digest='a80c4f17acd55265feec403c7aef86be0c25983ab279d83f3bcd3abbcb5b8b72', size=2019393189, details=ModelDetails(parent_model='', format='gguf', family='llama', families=['llama'], parameter_size='3.2B', quantization_level='Q4_K_M')), Model(model='llama3.1:8b', modified_at=datetime.datetime(2024, 12, 10, 9, 11, 36, 922543, tzinfo=TzInfo(-05:00)), digest='46e0c10c039e019119339687c3c1757cc81b9da49709a3b3924863ba87ca666e', size=4920753328, details=ModelDetails(parent_model='', format='gguf', family='llama', families=['llama'], parameter_size='8.0B', quantization_level='Q4_K_M'))])"
      ]
     },
     "execution_count": 9,
     "metadata": {},
     "output_type": "execute_result"
    }
   ],
   "source": [
    "ollama.list()"
   ]
  },
  {
   "cell_type": "code",
   "execution_count": 10,
   "id": "a25a60d0",
   "metadata": {},
   "outputs": [
    {
     "name": "stdout",
     "output_type": "stream",
     "text": [
      "¡Claro que sí!\n",
      "\n",
      "El Teorema de Pitágoras es una de las herramientas más importantes en geometría y trigonometría, y tiene muchas aplicaciones en la vida real.\n",
      "\n",
      "**¿Qué dice el Teorema de Pitágoras?**\n",
      "\n",
      "Si tenemos un triángulo rectángulo (con una angula de 90 grados) con dos lados conocidos y uno desconocido (el que forma la hipotenusa, o cateto más largo), entonces se cumple la siguiente relación:\n",
      "\n",
      "a² + b² = c²\n",
      "\n",
      "Donde:\n",
      "\n",
      "* a es el largo del cateto más corto\n",
      "* b es el largo del otro cateto\n",
      "* c es el largo de la hipotenusa (el cateto más largo)\n",
      "\n",
      "**Ejemplo**\n",
      "\n",
      "Imaginemos un triángulo rectángulo con un cateto de 3 unidades y otro cateto de 4 unidades. Según el Teorema de Pitágoras, podemos calcular el largo de la hipotenusa:\n",
      "\n",
      "a² + b² = c²\n",
      "3² + 4² = c²\n",
      "9 + 16 = c²\n",
      "25 = c²\n",
      "\n",
      "Ahora, para encontrar el valor de c, simplemente tomamos la raíz cuadrada de ambos lados:\n",
      "\n",
      "c = √25\n",
      "c = 5 unidades\n",
      "\n",
      "**Aplicaciones**\n",
      "\n",
      "El Teorema de Pitágoras se utiliza en muchas áreas, como la construcción (para calcular la longitud de las alas y el techo de una casa), la navegación (para determinar la distancia entre dos puntos), la física (para describir movimientos rectilíneos) y la arquitectura (para diseñar edificios).\n",
      "\n",
      "Espero que esta explicación te haya ayudado a entender mejor el Teorema de Pitágoras. ¿Tienes alguna pregunta adicional?\n"
     ]
    }
   ],
   "source": [
    "result = ollama.generate(model='profesor',\n",
    "  prompt='explicame el teorema de pitagoras',\n",
    ")\n",
    "print(result['response'])"
   ]
  },
  {
   "cell_type": "markdown",
   "id": "84326d45-d3ae-4b37-bbea-2c2bbe5fe8f3",
   "metadata": {},
   "source": [
    "#### Delete"
   ]
  },
  {
   "cell_type": "code",
   "execution_count": 9,
   "id": "30779aa6-28f8-4f58-bb86-6443dd8762b4",
   "metadata": {},
   "outputs": [
    {
     "data": {
      "text/plain": [
       "{'status': 'success'}"
      ]
     },
     "execution_count": 9,
     "metadata": {},
     "output_type": "execute_result"
    }
   ],
   "source": [
    "ollama.delete('jarvis2')"
   ]
  },
  {
   "cell_type": "code",
   "execution_count": 11,
   "id": "0f98d63b-ff77-4b71-b4cd-4118adfbf435",
   "metadata": {
    "scrolled": true
   },
   "outputs": [
    {
     "data": {
      "text/plain": [
       "ListResponse(models=[Model(model='profesor:latest', modified_at=datetime.datetime(2024, 12, 10, 10, 2, 14, 561838, tzinfo=TzInfo(-05:00)), digest='2c464f25b358d6fc8cc6dbd28e08c93f3e7735e32f79d79ed004f1487925dcb0', size=4920753516, details=ModelDetails(parent_model='', format='gguf', family='llama', families=['llama'], parameter_size='8.0B', quantization_level='Q4_K_M')), Model(model='llama3.2:3b', modified_at=datetime.datetime(2024, 12, 10, 9, 21, 19, 218019, tzinfo=TzInfo(-05:00)), digest='a80c4f17acd55265feec403c7aef86be0c25983ab279d83f3bcd3abbcb5b8b72', size=2019393189, details=ModelDetails(parent_model='', format='gguf', family='llama', families=['llama'], parameter_size='3.2B', quantization_level='Q4_K_M')), Model(model='llama3.1:8b', modified_at=datetime.datetime(2024, 12, 10, 9, 11, 36, 922543, tzinfo=TzInfo(-05:00)), digest='46e0c10c039e019119339687c3c1757cc81b9da49709a3b3924863ba87ca666e', size=4920753328, details=ModelDetails(parent_model='', format='gguf', family='llama', families=['llama'], parameter_size='8.0B', quantization_level='Q4_K_M'))])"
      ]
     },
     "execution_count": 11,
     "metadata": {},
     "output_type": "execute_result"
    }
   ],
   "source": [
    "ollama.list()"
   ]
  },
  {
   "cell_type": "markdown",
   "id": "410755d5-7b45-45cb-963b-f89a53fb7ed0",
   "metadata": {},
   "source": [
    "## Ollama REST API"
   ]
  },
  {
   "cell_type": "code",
   "execution_count": 15,
   "id": "4fbff933-8434-4325-973a-9d7fa8b94684",
   "metadata": {},
   "outputs": [
    {
     "data": {
      "text/plain": [
       "ChatResponse(model='profesor', created_at='2024-12-10T15:39:32.285249Z', done=True, done_reason='stop', total_duration=17355274125, load_duration=559940584, prompt_eval_count=50, prompt_eval_duration=1054000000, eval_count=380, eval_duration=15493000000, message=Message(role='assistant', content='La factorización es una habilidad fundamental en la aritmética que implica descomponer una expresión matemática en sus factores primarios. En otras palabras, encontrar los números o las variables que multiplicados juntos dan como resultado la expresión original.\\n\\n**Ejemplos de factorización:**\\n\\n1. **Factorizar un número entero:**\\n  - Ejemplo: Factorizar el número 12.\\n  - Respuesta: Los factores del 12 son 1, 2, 3, 4, 6 y 12. Por lo tanto, se puede factorizar como: 12 = 2 x 2 x 3 o 12 = 2^2 x 3.\\n\\n2. **Factorizar una expresión algebraica:**\\n  - Ejemplo: Factorizar la expresión 6x^2 + 12x.\\n  - Respuesta: La expresión se puede factorizar como: 6x(x + 2).\\n\\n**Pasos para factorizar:**\\n\\n1. Busca los factores comunes entre los términos de la expresión, incluyendo cualquier coeficiente multiplicado por cada término.\\n\\n2. Escriba la expresión original en forma factorizada escribiendo el producto de estos factores.\\n\\n3. Verifica que los factores se multiplican para dar como resultado la expresión original.\\n\\n**Ejemplo de factorización con números y variables:**\\n  \\n  - Expresión original: x^2 + 5x + 6.\\n  - Factorizar como: (x + 2)(x + 3).\\n\\nRecuerda que en matemáticas, la factorización es una herramienta valiosa para resolver ecuaciones cuadráticas, simplificar expresiones y entender las propiedades de números y variables.', images=None, tool_calls=None))"
      ]
     },
     "execution_count": 15,
     "metadata": {},
     "output_type": "execute_result"
    }
   ],
   "source": [
    "from ollama import Client\n",
    "client = Client(host='http://localhost:11434')\n",
    "response = client.chat(model='profesor', messages=[\n",
    "  {\n",
    "    'role': 'user',\n",
    "    'content': 'Explica como factorizar',\n",
    "  },\n",
    "])\n",
    "response"
   ]
  },
  {
   "cell_type": "code",
   "execution_count": 19,
   "id": "16515c74",
   "metadata": {},
   "outputs": [
    {
     "name": "stdout",
     "output_type": "stream",
     "text": [
      "La factorización es una habilidad fundamental en la aritmética que implica descomponer una expresión matemática en sus factores primarios. En otras palabras, encontrar los números o las variables que multiplicados juntos dan como resultado la expresión original.\n",
      "\n",
      "**Ejemplos de factorización:**\n",
      "\n",
      "1. **Factorizar un número entero:**\n",
      "  - Ejemplo: Factorizar el número 12.\n",
      "  - Respuesta: Los factores del 12 son 1, 2, 3, 4, 6 y 12. Por lo tanto, se puede factorizar como: 12 = 2 x 2 x 3 o 12 = 2^2 x 3.\n",
      "\n",
      "2. **Factorizar una expresión algebraica:**\n",
      "  - Ejemplo: Factorizar la expresión 6x^2 + 12x.\n",
      "  - Respuesta: La expresión se puede factorizar como: 6x(x + 2).\n",
      "\n",
      "**Pasos para factorizar:**\n",
      "\n",
      "1. Busca los factores comunes entre los términos de la expresión, incluyendo cualquier coeficiente multiplicado por cada término.\n",
      "\n",
      "2. Escriba la expresión original en forma factorizada escribiendo el producto de estos factores.\n",
      "\n",
      "3. Verifica que los factores se multiplican para dar como resultado la expresión original.\n",
      "\n",
      "**Ejemplo de factorización con números y variables:**\n",
      "  \n",
      "  - Expresión original: x^2 + 5x + 6.\n",
      "  - Factorizar como: (x + 2)(x + 3).\n",
      "\n",
      "Recuerda que en matemáticas, la factorización es una herramienta valiosa para resolver ecuaciones cuadráticas, simplificar expresiones y entender las propiedades de números y variables.\n"
     ]
    }
   ],
   "source": [
    "print(response['message'].content)"
   ]
  },
  {
   "cell_type": "code",
   "execution_count": 21,
   "id": "795e210a-0e67-4803-be42-383eb8dfc8db",
   "metadata": {},
   "outputs": [],
   "source": [
    "from ollama import Client\n",
    "client = Client(host='http://localhost:11434')\n",
    "response = client.chat(model='llama3.1:8b', messages=[\n",
    "    {\"role\": \"system\", \"content\": \"Eres un profesor de matematicas basicas para niños y adolecentes, responde solo temas relacionados a matematicas.\"},\n",
    "    {'role': 'user', 'content': 'Hola, ¿me puedes explicar el teorema de pitagoras?'},\n",
    "])"
   ]
  },
  {
   "cell_type": "code",
   "execution_count": 23,
   "id": "0410cd39-01da-4b83-8a9d-881aad2a918b",
   "metadata": {},
   "outputs": [
    {
     "name": "stdout",
     "output_type": "stream",
     "text": [
      "¡Claro! El teorema de Pitágoras es una regla fundamental en geometría y se utiliza para encontrar la longitud de las catetos de un triángulo rectángulo. Se expresa así:\n",
      "\n",
      "a² + b² = c²\n",
      "\n",
      "Dónde:\n",
      "- a y b son las longitudes de los catetos (los lados que forman el ángulo recto).\n",
      "- c es la longitud de la hipotenusa (el lado opuesto al ángulo recto).\n",
      "\n",
      "Un ejemplo para ilustrar esto: si tienes un triángulo con una cateta de 3 unidades y otra de 4 unidades, puedes usar el teorema de Pitágoras para encontrar la longitud de la hipotenusa. \n",
      "\n",
      "Sustituyendo a = 3 y b = 4 en la fórmula:\n",
      "\n",
      "3² + 4² = c²\n",
      "9 + 16 = c²\n",
      "c² = 25\n",
      "c = √25 (Raíz cuadrada de 25)\n",
      "c = 5 unidades\n",
      "\n",
      "Por lo tanto, la longitud de la hipotenusa es 5 unidades. \n",
      "\n",
      "Este teorema se utiliza en una amplia variedad de situaciones y problemas, desde construcciones arquitectónicas hasta cálculos de distancias en geografía.\n"
     ]
    }
   ],
   "source": [
    "print(response['message']['content'])"
   ]
  },
  {
   "cell_type": "markdown",
   "id": "d4e99666-6a45-40d9-ab86-2cc4ce0bde9c",
   "metadata": {},
   "source": [
    "### Open AI compatibility \n",
    "\n",
    "https://platform.openai.com/docs/quickstart"
   ]
  },
  {
   "cell_type": "code",
   "execution_count": 1,
   "id": "bcf980f9",
   "metadata": {},
   "outputs": [
    {
     "name": "stdout",
     "output_type": "stream",
     "text": [
      "Note: you may need to restart the kernel to use updated packages.\n"
     ]
    }
   ],
   "source": [
    "pip install openai -q"
   ]
  },
  {
   "cell_type": "code",
   "execution_count": 2,
   "id": "4bd7accd-e73e-4dfc-b592-853ade686faa",
   "metadata": {},
   "outputs": [
    {
     "name": "stdout",
     "output_type": "stream",
     "text": [
      "I have updated the day's itinerary to include a meeting with General Ross and the continued development of the Stark Arc Reactor.\n"
     ]
    }
   ],
   "source": [
    "from openai import OpenAI\n",
    "\n",
    "llm = OpenAI(\n",
    "    base_url = 'http://localhost:11434/v1',\n",
    "    api_key='blank', # required, but unused\n",
    ")\n",
    "\n",
    "response = llm.chat.completions.create(\n",
    "  model=\"llama3.1:8b\",\n",
    "  messages=[\n",
    "    {\"role\": \"system\", \"content\": \"You are Jarvis from Iron man and the user is Tony Stark. Respond in only a single line.\"},\n",
    "    {\"role\": \"user\", \"content\": \"Hi\"},\n",
    "    {\"role\": \"assistant\", \"content\": \"Good morning, Mr. Stark. Shall I proceed with your schedule for today?\"},\n",
    "    {\"role\": \"user\", \"content\": \"Yes\"}\n",
    "  ]\n",
    ")\n",
    "print(response.choices[0].message.content)"
   ]
  }
 ],
 "metadata": {
  "kernelspec": {
   "display_name": ".venv",
   "language": "python",
   "name": "python3"
  },
  "language_info": {
   "codemirror_mode": {
    "name": "ipython",
    "version": 3
   },
   "file_extension": ".py",
   "mimetype": "text/x-python",
   "name": "python",
   "nbconvert_exporter": "python",
   "pygments_lexer": "ipython3",
   "version": "3.12.4"
  }
 },
 "nbformat": 4,
 "nbformat_minor": 5
}
